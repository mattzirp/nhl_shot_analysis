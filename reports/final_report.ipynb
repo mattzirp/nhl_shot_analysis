{
 "cells": [
  {
   "cell_type": "markdown",
   "metadata": {},
   "source": [
    "# Pucks to the Net \n",
    "## An Analysis of Shooting and Goal Scoring in the NHL from 2000 - 2020\n",
    "\n",
    "### Team Members:\n",
    "- Alec Lunn\n",
    "- Dylan Medina\n",
    "- Matthew Zirpoli"
   ]
  },
  {
   "cell_type": "markdown",
   "metadata": {},
   "source": [
    "## Introduction\n",
    "\n",
    "In Canada, Hockey is more than just a casual sport, it is one of the backbones of Canadian culture and identity. Since Canada is the birthplace of hockey, it has a deep connection to the game itself. The National Hockey League (NHL) features many Canadian teams, including the Calgary Flames, and represents the top-tier skill of professional hockey players around the world. This, in turn, offers a vast warehouse of data for sports analytics and applications of Data Science. Understanding the dynamics of NHL games through data analysis provides key insights about player performance, team strategies, winning statistics and in-game decision-making. We aim to identify the key factors that influence successful teams in the league, as well as uncover potential areas for improvement for players and teams through data analysis. With this project, we will specifically hone in on shots and goals for our analysis of NHL game data, acquired from Kaggle"
   ]
  },
  {
   "cell_type": "markdown",
   "metadata": {},
   "source": [
    "## Guiding Questions\n",
    "\n",
    "- Where on the ice do shots have the best percentage of scoring goals/Where are you most likely to score a goal? What types of shots are most likely to score?\n",
    "    \n",
    "    In hockey, scoring goals on the other team's net is the most important key to winning games. The location of where shots are taken on the ice plays a significant role in scoring chances for teams. By analyzing shot location data, this question aims to identify the zones where players are most likely to score and with what type of shot. These insights are valuable to teams and coaching staffs to design offensive plays, position players during power plays, and create defensive strategies to limit opposing teams scoring chances. \n",
    "\n",
    "- How does the score differential affect the team's decision-making and strategy during the game?\n",
    "    \n",
    "    Hockey, especially at the professional level, is the most dynamic game out of all professional sports. The score differential between teams plays an important role in shaping a team’s approach and strategy for the rest of the game. Leading teams often adopt a defensive approach—maintaining possession, blocking shots, and minimizing turnovers—while trailing teams become more aggressive, pulling goalies, increasing shot volume, and taking risks to create scoring chances. As a result, we seek to analyze how teams adjust their strategies with respect to score differential. \n",
    "\n",
    "- What are the key differences in all-star calibre shooting versus league average shooting?\n",
    "    \n",
    "    This question explores how All-star players excel in shot location, accuracy and selection compared to league-average players. Do they consistently shoot from high-probability areas or succeed from tougher angles? By comparing and analyzing shot location, percentage and shot type from all-stars we can find insights and patterns among the best players compared to league-average professionals. \n",
    "\n",
    "- Have shot patterns changed over the years (ie do they succeed from different areas, do players favour different shot types/locations)?\n",
    "    \n",
    "    As the game of hockey is constantly evolving, this question examines how player tendencies and strategies have shifted over time. We raise the question: how much has shot locations, types and success rates changed over time? How much have current advancements in tactics, technology and goaltending influenced scoring patterns over the league's progression? This is important for fans and professionals to see what direction the game is moving into the future\n"
   ]
  },
  {
   "cell_type": "markdown",
   "metadata": {},
   "source": [
    "## Dataset\n",
    "\n",
    "For this project, we will use a dataset of NHL game data available on Kaggle. This dataset includes NHL game data from the 2000-2001 season until the 2019-2020 season.The collected data is stored in a tabular format in a series of .csv files representing a point-in-time snapshot of a relational database. For our project, we are particularly interested in the game_plays table, which stores game “events” like shots, goals, penalties, and other statistics driving events. The table also gives the x, y coordinates on the ice where these events happened, as well as some game conditions like the current score, time remaining, and power play/penalty kill conditions when the event happened. In particular, we plan to analyze shot and goal events paired with their locations to analyze shot quality, and chance of success. We will also use reference tables like game_plays_players and player_info, which map plays to players’ biographical information in order to differentiate between high level players and others. High level players will be identified by their inclusion in the All Star Game. Data of players All Star status will be sourced from hockey-reference.com. \n"
   ]
  },
  {
   "cell_type": "markdown",
   "metadata": {},
   "source": [
    "## Analysis"
   ]
  },
  {
   "cell_type": "markdown",
   "metadata": {},
   "source": [
    "## Conclusion"
   ]
  },
  {
   "cell_type": "markdown",
   "metadata": {},
   "source": [
    "## References"
   ]
  },
  {
   "cell_type": "markdown",
   "metadata": {},
   "source": [
    "1. Ellis, M. (2019). NHL Game Data [Online]. Available at:\n",
    "https://www.kaggle.com/datasets/martinellis/nhl-game-data/data \n",
    "\n",
    "2. Hockey Reference (2024). NHL All-Star Game History & Statistics [Online]. Available at:\n",
    "https://www.hockey-reference.com/allstar/ \n",
    "\n",
    "3. Python Software Foundation, 2023. Python (Version 3.11). Available at: https://www.python.org\n",
    "\n",
    "4. Harris, C.R. et al., 2020. Array programming with NumPy. Nature, 585, pp.357–362. Available at: https://doi.org/10.1038/s41586-020-2649-2 \n",
    "\n",
    "5. McKinney, W. & others, 2010. Data structures for statistical computing in Python. In Proceedings of the 9th Python in Science Conference, pp. 51–56. Available at: https://conference.scipy.org/proceedings/2010/mckinney.html \n",
    "\n",
    "6. Hunter, J.D., 2007. Matplotlib: A 2D graphics environment. Computing in Science & Engineering, 9(3), pp.90–95. Available at: https://doi.org/10.1109/MCSE.2007.55 \n",
    "\n",
    "7. Waskom, M.L., 2021. Seaborn: statistical data visualization. Journal of Open Source Software, 6(60), pp.3021. Available at: https://doi.org/10.21105/joss.03021 "
   ]
  },
  {
   "cell_type": "markdown",
   "metadata": {},
   "source": []
  }
 ],
 "metadata": {
  "language_info": {
   "name": "python"
  }
 },
 "nbformat": 4,
 "nbformat_minor": 2
}
