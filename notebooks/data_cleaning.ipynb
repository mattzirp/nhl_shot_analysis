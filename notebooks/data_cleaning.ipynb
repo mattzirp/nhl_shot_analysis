{
 "cells": [
  {
   "cell_type": "markdown",
   "metadata": {},
   "source": [
    "This notebook will focus on reading the .csv data from our dataset, inspecting the data"
   ]
  },
  {
   "cell_type": "code",
   "execution_count": 7,
   "metadata": {},
   "outputs": [],
   "source": [
    "from pathlib import Path\n",
    "import pandas as pd\n",
    "\n",
    "DATA_PATH = Path(\"../data/\")\n",
    "PICKLE_PATH = Path(\"../pickled_data/\")"
   ]
  },
  {
   "cell_type": "markdown",
   "metadata": {},
   "source": [
    "### Play Data\n",
    "This set stores information about individual plays or events within a game. There are different event types corresponding to the moments of statistical interest within a hockey game. Some event types are associated with x, y coordinates giving location on the ice."
   ]
  },
  {
   "cell_type": "code",
   "execution_count": 8,
   "metadata": {},
   "outputs": [],
   "source": [
    "game_plays = pd.read_csv(DATA_PATH / \"game_plays.csv\")\n",
    "game_plays.info()"
   ]
  },
  {
   "cell_type": "code",
   "execution_count": null,
   "metadata": {},
   "outputs": [],
   "source": [
    "null_plays = game_plays.isna().sum()\n",
    "null_plays"
   ]
  },
  {
   "cell_type": "markdown",
   "metadata": {},
   "source": [
    "There are some significant missing data at a glance, however we know that this by design. Certain events are missing team info because they are \"neutral\" and don't pertain to a particular team. X, Y coords are not recorded for every event type, and secondaryType is only recorded for shot events."
   ]
  },
  {
   "cell_type": "code",
   "execution_count": null,
   "metadata": {},
   "outputs": [],
   "source": [
    "game_plays['event'].value_counts()"
   ]
  },
  {
   "cell_type": "markdown",
   "metadata": {},
   "source": [
    "Example of an event type without certain data by design:"
   ]
  },
  {
   "cell_type": "code",
   "execution_count": null,
   "metadata": {},
   "outputs": [],
   "source": [
    "game_plays[game_plays['event'] == 'Shootout Complete']"
   ]
  },
  {
   "cell_type": "code",
   "execution_count": null,
   "metadata": {},
   "outputs": [],
   "source": [
    "duplicate_plays = game_plays.groupby(['play_id'])['game_id'].count() > 1\n",
    "duplicate_plays.value_counts()"
   ]
  },
  {
   "cell_type": "markdown",
   "metadata": {},
   "source": [
    "There is some duplication based on the play_id. We should attempt to drop duplicates with the same play_id, in the same game, happening at the same exact time."
   ]
  },
  {
   "cell_type": "code",
   "execution_count": 48,
   "metadata": {},
   "outputs": [],
   "source": [
    "subset_columns = ['play_id', 'game_id', 'dateTime']\n",
    "game_plays = game_plays.drop_duplicates(subset=subset_columns, keep=\"first\")"
   ]
  },
  {
   "cell_type": "code",
   "execution_count": null,
   "metadata": {},
   "outputs": [],
   "source": [
    "duplicate_plays = game_plays.groupby(subset_columns)['game_id'].count() > 1\n",
    "duplicate_plays.value_counts()"
   ]
  },
  {
   "cell_type": "markdown",
   "metadata": {},
   "source": [
    "With no more duplicates, we can take a look at the data we're most interested in, shots and goals"
   ]
  },
  {
   "cell_type": "code",
   "execution_count": null,
   "metadata": {},
   "outputs": [],
   "source": [
    "shots = game_plays[game_plays['event'] == \"Shot\"]\n",
    "shots.head()"
   ]
  },
  {
   "cell_type": "code",
   "execution_count": null,
   "metadata": {},
   "outputs": [],
   "source": [
    "shots['secondaryType'].value_counts()"
   ]
  },
  {
   "cell_type": "code",
   "execution_count": null,
   "metadata": {},
   "outputs": [],
   "source": [
    "shots['secondaryType'].isna().sum()"
   ]
  },
  {
   "cell_type": "markdown",
   "metadata": {},
   "source": [
    "There are very few missing shots, we can fill them with the mode 'Wrist Shot'"
   ]
  },
  {
   "cell_type": "code",
   "execution_count": 68,
   "metadata": {},
   "outputs": [],
   "source": [
    "shot_mask = game_plays['event'] == 'Shot'\n",
    "game_plays.loc[shot_mask, 'secondaryType'] = game_plays.loc[shot_mask, 'secondaryType'].fillna('Wrist Shot')"
   ]
  },
  {
   "cell_type": "code",
   "execution_count": null,
   "metadata": {},
   "outputs": [],
   "source": [
    "game_plays[shot_mask]['secondaryType'].isna().sum()"
   ]
  },
  {
   "cell_type": "markdown",
   "metadata": {},
   "source": [
    "With the missing values for secondaryType populated, this data is ready to go!"
   ]
  },
  {
   "cell_type": "code",
   "execution_count": 72,
   "metadata": {},
   "outputs": [],
   "source": [
    "game_plays.to_pickle(PICKLE_PATH / \"game_plays\")"
   ]
  },
  {
   "cell_type": "markdown",
   "metadata": {},
   "source": [
    "### Game Data\n",
    "This table gives data about the game itself. Each game has an ID, the season it was played in, the teams that participated, the score and outcome, and venue data"
   ]
  },
  {
   "cell_type": "code",
   "execution_count": null,
   "metadata": {},
   "outputs": [],
   "source": [
    "games = pd.read_csv(DATA_PATH / \"game.csv\")\n",
    "games.info()"
   ]
  },
  {
   "cell_type": "code",
   "execution_count": null,
   "metadata": {},
   "outputs": [],
   "source": [
    "games.shape"
   ]
  },
  {
   "cell_type": "code",
   "execution_count": null,
   "metadata": {},
   "outputs": [],
   "source": [
    "games['season'].unique()"
   ]
  },
  {
   "cell_type": "markdown",
   "metadata": {},
   "source": [
    "We have no null data in the games set, let's check for duplicates."
   ]
  },
  {
   "cell_type": "code",
   "execution_count": null,
   "metadata": {},
   "outputs": [],
   "source": [
    "duplicate_games = games.groupby(['game_id'])['season'].count() > 1\n",
    "duplicate_games.value_counts()"
   ]
  },
  {
   "cell_type": "markdown",
   "metadata": {},
   "source": [
    "Looks like there is some duplication. We can say for sure that no two games should have the same id, season, venue, and teams involved. If all those factors were the same, the game row is certainly duplicate"
   ]
  },
  {
   "cell_type": "code",
   "execution_count": 6,
   "metadata": {},
   "outputs": [],
   "source": [
    "subset_columns = ['game_id', 'season', 'venue', 'away_team_id', 'home_team_id']\n",
    "games = games.drop_duplicates(subset=subset_columns, keep=\"first\")"
   ]
  },
  {
   "cell_type": "code",
   "execution_count": null,
   "metadata": {},
   "outputs": [],
   "source": [
    "games.shape"
   ]
  },
  {
   "cell_type": "code",
   "execution_count": 8,
   "metadata": {},
   "outputs": [],
   "source": [
    "games.to_pickle(PICKLE_PATH+\"games\")"
   ]
  },
  {
   "cell_type": "markdown",
   "metadata": {},
   "source": [
    "### Game Teams stats\n",
    "This table gives aggregate statistics and other team data for each game. Goals, shots, hits, penalties, faceoff win %, etc."
   ]
  },
  {
   "cell_type": "code",
   "execution_count": null,
   "metadata": {},
   "outputs": [],
   "source": [
    "game_teams = pd.read_csv(DATA_PATH / \"game_teams_stats.csv\")\n",
    "game_teams.info()"
   ]
  },
  {
   "cell_type": "code",
   "execution_count": null,
   "metadata": {},
   "outputs": [],
   "source": [
    "game_teams.shape"
   ]
  },
  {
   "cell_type": "markdown",
   "metadata": {},
   "source": [
    "There is some null data in faceoff win %, giveaways, takeaways, hits. Hits were not always a tracked stat and were only begun to be measured at some point during the timeline of this data, so we are expecting some missing values. For the others, the data isn't in areas we anticipate investigating heavily, so we will forego imputing any values for now.\n",
    "\n",
    "Let's move on to inspecting for duplication."
   ]
  },
  {
   "cell_type": "code",
   "execution_count": null,
   "metadata": {},
   "outputs": [],
   "source": [
    "team_duplicates = game_teams.groupby(['game_id', 'team_id'])['won'].count() > 1\n",
    "team_duplicates.value_counts()"
   ]
  },
  {
   "cell_type": "markdown",
   "metadata": {},
   "source": [
    "No game should have the same id with multiple entries for two teams of the same id. Ex. for each game there should be two entries, one for each team."
   ]
  },
  {
   "cell_type": "code",
   "execution_count": 13,
   "metadata": {},
   "outputs": [],
   "source": [
    "subset_columns = ['game_id', 'team_id']\n",
    "game_teams = game_teams.drop_duplicates(subset=subset_columns, keep=\"first\")"
   ]
  },
  {
   "cell_type": "code",
   "execution_count": null,
   "metadata": {},
   "outputs": [],
   "source": [
    "game_teams.shape"
   ]
  },
  {
   "cell_type": "markdown",
   "metadata": {},
   "source": [
    "Duplicates dropped, and a consistent result mathematically with our games set. "
   ]
  },
  {
   "cell_type": "code",
   "execution_count": 18,
   "metadata": {},
   "outputs": [],
   "source": [
    "game_teams.to_pickle(PICKLE_PATH / \"game_teams\")"
   ]
  },
  {
   "cell_type": "markdown",
   "metadata": {},
   "source": [
    "### Game Plays Players\n",
    "This table is an intermediate mapping table for matching game_plays to player_info. It contains a play_id, game_id, and player_id along with playerType"
   ]
  },
  {
   "cell_type": "code",
   "execution_count": null,
   "metadata": {},
   "outputs": [],
   "source": [
    "game_plays_players = pd.read_csv(DATA_PATH / \"game_plays_players.csv\")\n",
    "game_plays_players.info()"
   ]
  },
  {
   "cell_type": "markdown",
   "metadata": {},
   "source": [
    "Let's inspect what information is stored in the playerType field"
   ]
  },
  {
   "cell_type": "code",
   "execution_count": null,
   "metadata": {},
   "outputs": [],
   "source": [
    "game_plays_players['playerType'].value_counts()"
   ]
  },
  {
   "cell_type": "markdown",
   "metadata": {},
   "source": [
    "It looks like the playerType is informative to the type of event happening in the play. Let's check for duplicate values."
   ]
  },
  {
   "cell_type": "code",
   "execution_count": null,
   "metadata": {},
   "outputs": [],
   "source": [
    "duplicate_play_players = game_plays_players.groupby(['play_id', 'game_id', 'player_id'])['playerType'].count() > 1\n",
    "duplicate_play_players.value_counts()"
   ]
  },
  {
   "cell_type": "code",
   "execution_count": 24,
   "metadata": {},
   "outputs": [],
   "source": [
    "subset_columns = ['play_id', 'game_id', 'player_id']\n",
    "game_plays_players = game_plays_players.drop_duplicates(subset=subset_columns, keep=\"first\")"
   ]
  },
  {
   "cell_type": "code",
   "execution_count": null,
   "metadata": {},
   "outputs": [],
   "source": [
    "game_plays_players.shape"
   ]
  },
  {
   "cell_type": "code",
   "execution_count": 26,
   "metadata": {},
   "outputs": [],
   "source": [
    "game_plays_players.to_pickle(PICKLE_PATH / 'game_plays_players')"
   ]
  },
  {
   "cell_type": "markdown",
   "metadata": {},
   "source": [
    "### Player Info \n",
    "This table contains biographical information about each player, including first and last name, nationality, birth city, position, birthday."
   ]
  },
  {
   "cell_type": "code",
   "execution_count": 60,
   "metadata": {},
   "outputs": [],
   "source": [
    "player_info = pd.read_csv(DATA_PATH / \"player_info.csv\")\n",
    "player_info.info()"
   ]
  },
  {
   "cell_type": "markdown",
   "metadata": {},
   "source": [
    "There are no null values in fields of interest for our group. First, Last, birthday  (for age), and position are the only data points we plan to use."
   ]
  },
  {
   "cell_type": "code",
   "execution_count": 61,
   "metadata": {},
   "outputs": [
    {
     "data": {
      "text/plain": [
       "nationality\n",
       "False    3925\n",
       "Name: count, dtype: int64"
      ]
     },
     "execution_count": 61,
     "metadata": {},
     "output_type": "execute_result"
    }
   ],
   "source": [
    "duplicate_players = player_info.groupby(['player_id', 'firstName', 'lastName'])['nationality'].count() > 1\n",
    "duplicate_players.value_counts()"
   ]
  },
  {
   "cell_type": "markdown",
   "metadata": {},
   "source": [
    "There are no duplicate players in the set."
   ]
  },
  {
   "cell_type": "markdown",
   "metadata": {},
   "source": [
    "### Added feature: allStarSeasons\n",
    "\n",
    "We are going to add a feature for each player that contains the years in which they participated in the All Star Game. This can be used to differentiate top quality players in their position against others. Due to the variable skill level players can display throughout different phases of their career, we will use the years, rather than a binary allStar feature\n",
    "\n",
    "First, we read in the all star data, containing season and player names for the all star team rosters"
   ]
  },
  {
   "cell_type": "code",
   "execution_count": 62,
   "metadata": {},
   "outputs": [
    {
     "data": {
      "text/plain": [
       "(639, 2)"
      ]
     },
     "execution_count": 62,
     "metadata": {},
     "output_type": "execute_result"
    }
   ],
   "source": [
    "all_stars = pd.read_csv(DATA_PATH / 'all_star_data.csv')\n",
    "all_stars.shape"
   ]
  },
  {
   "cell_type": "markdown",
   "metadata": {},
   "source": [
    "We need a column to merge on between the all star data and the player_info table, we can use full name (first + last)"
   ]
  },
  {
   "cell_type": "code",
   "execution_count": 63,
   "metadata": {},
   "outputs": [],
   "source": [
    "player_info['fullName'] = player_info['firstName'] + ' ' + player_info['lastName']"
   ]
  },
  {
   "cell_type": "markdown",
   "metadata": {},
   "source": [
    "We can merge the names, then inspect for any columns where we do not find a match. These will be due to non-matching names between the datasets."
   ]
  },
  {
   "cell_type": "code",
   "execution_count": 64,
   "metadata": {},
   "outputs": [
    {
     "data": {
      "text/html": [
       "<div>\n",
       "<style scoped>\n",
       "    .dataframe tbody tr th:only-of-type {\n",
       "        vertical-align: middle;\n",
       "    }\n",
       "\n",
       "    .dataframe tbody tr th {\n",
       "        vertical-align: top;\n",
       "    }\n",
       "\n",
       "    .dataframe thead th {\n",
       "        text-align: right;\n",
       "    }\n",
       "</style>\n",
       "<table border=\"1\" class=\"dataframe\">\n",
       "  <thead>\n",
       "    <tr style=\"text-align: right;\">\n",
       "      <th></th>\n",
       "      <th>Season</th>\n",
       "      <th>Player</th>\n",
       "      <th>player_id</th>\n",
       "      <th>firstName</th>\n",
       "      <th>lastName</th>\n",
       "      <th>nationality</th>\n",
       "      <th>birthCity</th>\n",
       "      <th>primaryPosition</th>\n",
       "      <th>birthDate</th>\n",
       "      <th>birthStateProvince</th>\n",
       "      <th>height</th>\n",
       "      <th>height_cm</th>\n",
       "      <th>weight</th>\n",
       "      <th>shootsCatches</th>\n",
       "      <th>fullName</th>\n",
       "    </tr>\n",
       "  </thead>\n",
       "  <tbody>\n",
       "  </tbody>\n",
       "</table>\n",
       "</div>"
      ],
      "text/plain": [
       "Empty DataFrame\n",
       "Columns: [Season, Player, player_id, firstName, lastName, nationality, birthCity, primaryPosition, birthDate, birthStateProvince, height, height_cm, weight, shootsCatches, fullName]\n",
       "Index: []"
      ]
     },
     "execution_count": 64,
     "metadata": {},
     "output_type": "execute_result"
    }
   ],
   "source": [
    "merged = pd.merge(all_stars, player_info, left_on='Player', right_on='fullName', how='left')\n",
    "merged[merged['player_id'].isna()]"
   ]
  },
  {
   "cell_type": "markdown",
   "metadata": {},
   "source": [
    "We iterated until there were no more missing rows. Most were conflicting spellings, use of nicknames, or use of special characters in names. We corrected these by editing the all star data csv to conform to the data in the player_info table\n",
    "\n",
    "Now we can merge the data to create the allStarSeasons column, which will contain a list of the seasons in which the player was on an all star team roster."
   ]
  },
  {
   "cell_type": "code",
   "execution_count": 65,
   "metadata": {},
   "outputs": [
    {
     "data": {
      "text/html": [
       "<div>\n",
       "<style scoped>\n",
       "    .dataframe tbody tr th:only-of-type {\n",
       "        vertical-align: middle;\n",
       "    }\n",
       "\n",
       "    .dataframe tbody tr th {\n",
       "        vertical-align: top;\n",
       "    }\n",
       "\n",
       "    .dataframe thead th {\n",
       "        text-align: right;\n",
       "    }\n",
       "</style>\n",
       "<table border=\"1\" class=\"dataframe\">\n",
       "  <thead>\n",
       "    <tr style=\"text-align: right;\">\n",
       "      <th></th>\n",
       "      <th>player_id</th>\n",
       "      <th>firstName</th>\n",
       "      <th>lastName</th>\n",
       "      <th>nationality</th>\n",
       "      <th>birthCity</th>\n",
       "      <th>primaryPosition</th>\n",
       "      <th>birthDate</th>\n",
       "      <th>birthStateProvince</th>\n",
       "      <th>height</th>\n",
       "      <th>height_cm</th>\n",
       "      <th>weight</th>\n",
       "      <th>shootsCatches</th>\n",
       "      <th>fullName</th>\n",
       "      <th>allStarSeasons</th>\n",
       "    </tr>\n",
       "  </thead>\n",
       "  <tbody>\n",
       "    <tr>\n",
       "      <th>0</th>\n",
       "      <td>8466148</td>\n",
       "      <td>Marian</td>\n",
       "      <td>Hossa</td>\n",
       "      <td>SVK</td>\n",
       "      <td>Stará Lubovna</td>\n",
       "      <td>RW</td>\n",
       "      <td>1979-01-12 00:00:00</td>\n",
       "      <td>NaN</td>\n",
       "      <td>6' 1\"</td>\n",
       "      <td>185.42</td>\n",
       "      <td>207.0</td>\n",
       "      <td>L</td>\n",
       "      <td>Marian Hossa</td>\n",
       "      <td>[20002001, 20022003, 20062007, 20072008, 20112...</td>\n",
       "    </tr>\n",
       "    <tr>\n",
       "      <th>1</th>\n",
       "      <td>8465058</td>\n",
       "      <td>Michal</td>\n",
       "      <td>Rozsival</td>\n",
       "      <td>CZE</td>\n",
       "      <td>Vlasim</td>\n",
       "      <td>D</td>\n",
       "      <td>1978-09-03 01:00:00</td>\n",
       "      <td>NaN</td>\n",
       "      <td>6' 1\"</td>\n",
       "      <td>185.42</td>\n",
       "      <td>210.0</td>\n",
       "      <td>R</td>\n",
       "      <td>Michal Rozsival</td>\n",
       "      <td>NaN</td>\n",
       "    </tr>\n",
       "    <tr>\n",
       "      <th>2</th>\n",
       "      <td>8476906</td>\n",
       "      <td>Shayne</td>\n",
       "      <td>Gostisbehere</td>\n",
       "      <td>USA</td>\n",
       "      <td>Pembroke Pines</td>\n",
       "      <td>D</td>\n",
       "      <td>1993-04-20 01:00:00</td>\n",
       "      <td>FL</td>\n",
       "      <td>5' 11\"</td>\n",
       "      <td>180.34</td>\n",
       "      <td>180.0</td>\n",
       "      <td>L</td>\n",
       "      <td>Shayne Gostisbehere</td>\n",
       "      <td>NaN</td>\n",
       "    </tr>\n",
       "    <tr>\n",
       "      <th>3</th>\n",
       "      <td>8466285</td>\n",
       "      <td>Brian</td>\n",
       "      <td>Campbell</td>\n",
       "      <td>CAN</td>\n",
       "      <td>Strathroy</td>\n",
       "      <td>D</td>\n",
       "      <td>1979-05-23 01:00:00</td>\n",
       "      <td>ON</td>\n",
       "      <td>5' 10\"</td>\n",
       "      <td>177.80</td>\n",
       "      <td>192.0</td>\n",
       "      <td>L</td>\n",
       "      <td>Brian Campbell</td>\n",
       "      <td>[20062007, 20072008, 20082009, 20112012]</td>\n",
       "    </tr>\n",
       "    <tr>\n",
       "      <th>4</th>\n",
       "      <td>8470607</td>\n",
       "      <td>Brent</td>\n",
       "      <td>Seabrook</td>\n",
       "      <td>CAN</td>\n",
       "      <td>Richmond</td>\n",
       "      <td>D</td>\n",
       "      <td>1985-04-20 01:00:00</td>\n",
       "      <td>BC</td>\n",
       "      <td>6' 3\"</td>\n",
       "      <td>190.50</td>\n",
       "      <td>220.0</td>\n",
       "      <td>R</td>\n",
       "      <td>Brent Seabrook</td>\n",
       "      <td>[20142015]</td>\n",
       "    </tr>\n",
       "    <tr>\n",
       "      <th>...</th>\n",
       "      <td>...</td>\n",
       "      <td>...</td>\n",
       "      <td>...</td>\n",
       "      <td>...</td>\n",
       "      <td>...</td>\n",
       "      <td>...</td>\n",
       "      <td>...</td>\n",
       "      <td>...</td>\n",
       "      <td>...</td>\n",
       "      <td>...</td>\n",
       "      <td>...</td>\n",
       "      <td>...</td>\n",
       "      <td>...</td>\n",
       "      <td>...</td>\n",
       "    </tr>\n",
       "    <tr>\n",
       "      <th>3920</th>\n",
       "      <td>8479374</td>\n",
       "      <td>Adam</td>\n",
       "      <td>Mascherin</td>\n",
       "      <td>CAN</td>\n",
       "      <td>Maple</td>\n",
       "      <td>LW</td>\n",
       "      <td>1998-06-06 01:00:00</td>\n",
       "      <td>ON</td>\n",
       "      <td>5' 10\"</td>\n",
       "      <td>177.80</td>\n",
       "      <td>205.0</td>\n",
       "      <td>L</td>\n",
       "      <td>Adam Mascherin</td>\n",
       "      <td>NaN</td>\n",
       "    </tr>\n",
       "    <tr>\n",
       "      <th>3921</th>\n",
       "      <td>8479403</td>\n",
       "      <td>Tyler</td>\n",
       "      <td>Parsons</td>\n",
       "      <td>USA</td>\n",
       "      <td>Mt. Clemas</td>\n",
       "      <td>G</td>\n",
       "      <td>1997-09-18 01:00:00</td>\n",
       "      <td>MI</td>\n",
       "      <td>6' 1\"</td>\n",
       "      <td>185.42</td>\n",
       "      <td>185.0</td>\n",
       "      <td>L</td>\n",
       "      <td>Tyler Parsons</td>\n",
       "      <td>NaN</td>\n",
       "    </tr>\n",
       "    <tr>\n",
       "      <th>3922</th>\n",
       "      <td>8480970</td>\n",
       "      <td>Marcus</td>\n",
       "      <td>Hogstrom</td>\n",
       "      <td>SWE</td>\n",
       "      <td>Sveg</td>\n",
       "      <td>D</td>\n",
       "      <td>1989-03-20 00:00:00</td>\n",
       "      <td>NaN</td>\n",
       "      <td>6' 4\"</td>\n",
       "      <td>193.04</td>\n",
       "      <td>200.0</td>\n",
       "      <td>L</td>\n",
       "      <td>Marcus Hogstrom</td>\n",
       "      <td>NaN</td>\n",
       "    </tr>\n",
       "    <tr>\n",
       "      <th>3923</th>\n",
       "      <td>8477574</td>\n",
       "      <td>Parker</td>\n",
       "      <td>Milner</td>\n",
       "      <td>USA</td>\n",
       "      <td>Pittsburgh</td>\n",
       "      <td>G</td>\n",
       "      <td>1990-09-06 01:00:00</td>\n",
       "      <td>PA</td>\n",
       "      <td>6' 1\"</td>\n",
       "      <td>185.42</td>\n",
       "      <td>185.0</td>\n",
       "      <td>L</td>\n",
       "      <td>Parker Milner</td>\n",
       "      <td>NaN</td>\n",
       "    </tr>\n",
       "    <tr>\n",
       "      <th>3924</th>\n",
       "      <td>8477352</td>\n",
       "      <td>Ryan</td>\n",
       "      <td>Fitzgerald</td>\n",
       "      <td>USA</td>\n",
       "      <td>Boca Raton</td>\n",
       "      <td>C</td>\n",
       "      <td>1994-10-19 01:00:00</td>\n",
       "      <td>FL</td>\n",
       "      <td>5' 9\"</td>\n",
       "      <td>175.26</td>\n",
       "      <td>172.0</td>\n",
       "      <td>R</td>\n",
       "      <td>Ryan Fitzgerald</td>\n",
       "      <td>NaN</td>\n",
       "    </tr>\n",
       "  </tbody>\n",
       "</table>\n",
       "<p>3925 rows × 14 columns</p>\n",
       "</div>"
      ],
      "text/plain": [
       "      player_id firstName      lastName nationality       birthCity  \\\n",
       "0       8466148    Marian         Hossa         SVK   Stará Lubovna   \n",
       "1       8465058    Michal      Rozsival         CZE          Vlasim   \n",
       "2       8476906    Shayne  Gostisbehere         USA  Pembroke Pines   \n",
       "3       8466285     Brian      Campbell         CAN       Strathroy   \n",
       "4       8470607     Brent      Seabrook         CAN        Richmond   \n",
       "...         ...       ...           ...         ...             ...   \n",
       "3920    8479374      Adam     Mascherin         CAN           Maple   \n",
       "3921    8479403     Tyler       Parsons         USA      Mt. Clemas   \n",
       "3922    8480970    Marcus      Hogstrom         SWE            Sveg   \n",
       "3923    8477574    Parker        Milner         USA      Pittsburgh   \n",
       "3924    8477352      Ryan    Fitzgerald         USA      Boca Raton   \n",
       "\n",
       "     primaryPosition            birthDate birthStateProvince  height  \\\n",
       "0                 RW  1979-01-12 00:00:00                NaN   6' 1\"   \n",
       "1                  D  1978-09-03 01:00:00                NaN   6' 1\"   \n",
       "2                  D  1993-04-20 01:00:00                 FL  5' 11\"   \n",
       "3                  D  1979-05-23 01:00:00                 ON  5' 10\"   \n",
       "4                  D  1985-04-20 01:00:00                 BC   6' 3\"   \n",
       "...              ...                  ...                ...     ...   \n",
       "3920              LW  1998-06-06 01:00:00                 ON  5' 10\"   \n",
       "3921               G  1997-09-18 01:00:00                 MI   6' 1\"   \n",
       "3922               D  1989-03-20 00:00:00                NaN   6' 4\"   \n",
       "3923               G  1990-09-06 01:00:00                 PA   6' 1\"   \n",
       "3924               C  1994-10-19 01:00:00                 FL   5' 9\"   \n",
       "\n",
       "      height_cm  weight shootsCatches             fullName  \\\n",
       "0        185.42   207.0             L         Marian Hossa   \n",
       "1        185.42   210.0             R      Michal Rozsival   \n",
       "2        180.34   180.0             L  Shayne Gostisbehere   \n",
       "3        177.80   192.0             L       Brian Campbell   \n",
       "4        190.50   220.0             R       Brent Seabrook   \n",
       "...         ...     ...           ...                  ...   \n",
       "3920     177.80   205.0             L       Adam Mascherin   \n",
       "3921     185.42   185.0             L        Tyler Parsons   \n",
       "3922     193.04   200.0             L      Marcus Hogstrom   \n",
       "3923     185.42   185.0             L        Parker Milner   \n",
       "3924     175.26   172.0             R      Ryan Fitzgerald   \n",
       "\n",
       "                                         allStarSeasons  \n",
       "0     [20002001, 20022003, 20062007, 20072008, 20112...  \n",
       "1                                                   NaN  \n",
       "2                                                   NaN  \n",
       "3              [20062007, 20072008, 20082009, 20112012]  \n",
       "4                                            [20142015]  \n",
       "...                                                 ...  \n",
       "3920                                                NaN  \n",
       "3921                                                NaN  \n",
       "3922                                                NaN  \n",
       "3923                                                NaN  \n",
       "3924                                                NaN  \n",
       "\n",
       "[3925 rows x 14 columns]"
      ]
     },
     "execution_count": 65,
     "metadata": {},
     "output_type": "execute_result"
    }
   ],
   "source": [
    "player_seasons = merged.groupby('player_id')['Season'].apply(list).reset_index()\n",
    "player_info = pd.merge(player_info, player_seasons, on='player_id', how='left').rename(columns={'Season': 'allStarSeasons'})\n",
    "player_info"
   ]
  },
  {
   "cell_type": "code",
   "execution_count": 66,
   "metadata": {},
   "outputs": [],
   "source": [
    "player_info.to_pickle(PICKLE_PATH / \"player_info\")"
   ]
  }
 ],
 "metadata": {
  "kernelspec": {
   "display_name": "Python 3",
   "language": "python",
   "name": "python3"
  },
  "language_info": {
   "codemirror_mode": {
    "name": "ipython",
    "version": 3
   },
   "file_extension": ".py",
   "mimetype": "text/x-python",
   "name": "python",
   "nbconvert_exporter": "python",
   "pygments_lexer": "ipython3",
   "version": "3.10.12"
  }
 },
 "nbformat": 4,
 "nbformat_minor": 2
}
