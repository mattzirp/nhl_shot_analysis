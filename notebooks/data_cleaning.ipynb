{
 "cells": [
  {
   "cell_type": "markdown",
   "metadata": {},
   "source": [
    "This notebook will focus on reading the .csv data from our dataset, inspecting the data"
   ]
  },
  {
   "cell_type": "code",
   "execution_count": 7,
   "metadata": {},
   "outputs": [],
   "source": [
    "from pathlib import Path\n",
    "import pandas as pd\n",
    "\n",
    "DATA_PATH = Path(\"../data/\")\n",
    "PICKLE_PATH = Path(\"../pickled_data/\")"
   ]
  },
  {
   "cell_type": "markdown",
   "metadata": {},
   "source": [
    "### Play Data\n",
    "This set stores information about individual plays or events within a game. There are different event types corresponding to the moments of statistical interest within a hockey game. Some event types are associated with x, y coordinates giving location on the ice."
   ]
  },
  {
   "cell_type": "code",
   "execution_count": 8,
   "metadata": {},
   "outputs": [
    {
     "name": "stdout",
     "output_type": "stream",
     "text": [
      "<class 'pandas.core.frame.DataFrame'>\n",
      "RangeIndex: 5050529 entries, 0 to 5050528\n",
      "Data columns (total 18 columns):\n",
      " #   Column               Dtype  \n",
      "---  ------               -----  \n",
      " 0   play_id              object \n",
      " 1   game_id              int64  \n",
      " 2   team_id_for          float64\n",
      " 3   team_id_against      float64\n",
      " 4   event                object \n",
      " 5   secondaryType        object \n",
      " 6   x                    float64\n",
      " 7   y                    float64\n",
      " 8   period               int64  \n",
      " 9   periodType           object \n",
      " 10  periodTime           int64  \n",
      " 11  periodTimeRemaining  float64\n",
      " 12  dateTime             object \n",
      " 13  goals_away           int64  \n",
      " 14  goals_home           int64  \n",
      " 15  description          object \n",
      " 16  st_x                 float64\n",
      " 17  st_y                 float64\n",
      "dtypes: float64(7), int64(5), object(6)\n",
      "memory usage: 693.6+ MB\n"
     ]
    }
   ],
   "source": [
    "game_plays = pd.read_csv(DATA_PATH / \"game_plays.csv\")\n",
    "game_plays.info()"
   ]
  },
  {
   "cell_type": "code",
   "execution_count": 44,
   "metadata": {},
   "outputs": [
    {
     "data": {
      "text/plain": [
       "play_id                      0\n",
       "game_id                      0\n",
       "team_id_for             932705\n",
       "team_id_against         932705\n",
       "event                        0\n",
       "secondaryType          3868513\n",
       "x                      1134364\n",
       "y                      1134333\n",
       "period                       0\n",
       "periodType                   0\n",
       "periodTime                   0\n",
       "periodTimeRemaining     193019\n",
       "dateTime                     0\n",
       "goals_away                   0\n",
       "goals_home                   0\n",
       "description                  0\n",
       "st_x                   1134364\n",
       "st_y                   1134364\n",
       "dtype: int64"
      ]
     },
     "execution_count": 44,
     "metadata": {},
     "output_type": "execute_result"
    }
   ],
   "source": [
    "null_plays = game_plays.isna().sum()\n",
    "null_plays"
   ]
  },
  {
   "cell_type": "markdown",
   "metadata": {},
   "source": [
    "There are some significant missing data at a glance, however we know that this by design. Certain events are missing team info because they are \"neutral\" and don't pertain to a particular team. X, Y coords are not recorded for every event type, and secondaryType is only recorded for shot events."
   ]
  },
  {
   "cell_type": "code",
   "execution_count": 45,
   "metadata": {},
   "outputs": [
    {
     "data": {
      "text/plain": [
       "event\n",
       "Faceoff                     894041\n",
       "Shot                        845164\n",
       "Hit                         706096\n",
       "Stoppage                    698342\n",
       "Blocked Shot                431922\n",
       "Missed Shot                 357214\n",
       "Giveaway                    273287\n",
       "Penalty                     247828\n",
       "Takeaway                    211881\n",
       "Goal                        148992\n",
       "Period Start                 50140\n",
       "Period Ready                 50073\n",
       "Period Official              50067\n",
       "Period End                   50067\n",
       "Game End                     15033\n",
       "Game Scheduled               15027\n",
       "Game Official                 2351\n",
       "Official Challenge            1470\n",
       "Shootout Complete             1456\n",
       "Early Intermission Start        35\n",
       "Early Intermission End          35\n",
       "Emergency Goaltender             8\n",
       "Name: count, dtype: int64"
      ]
     },
     "execution_count": 45,
     "metadata": {},
     "output_type": "execute_result"
    }
   ],
   "source": [
    "game_plays['event'].value_counts()"
   ]
  },
  {
   "cell_type": "markdown",
   "metadata": {},
   "source": [
    "Example of an event type without certain data by design:"
   ]
  },
  {
   "cell_type": "code",
   "execution_count": 46,
   "metadata": {},
   "outputs": [
    {
     "data": {
      "text/html": [
       "<div>\n",
       "<style scoped>\n",
       "    .dataframe tbody tr th:only-of-type {\n",
       "        vertical-align: middle;\n",
       "    }\n",
       "\n",
       "    .dataframe tbody tr th {\n",
       "        vertical-align: top;\n",
       "    }\n",
       "\n",
       "    .dataframe thead th {\n",
       "        text-align: right;\n",
       "    }\n",
       "</style>\n",
       "<table border=\"1\" class=\"dataframe\">\n",
       "  <thead>\n",
       "    <tr style=\"text-align: right;\">\n",
       "      <th></th>\n",
       "      <th>play_id</th>\n",
       "      <th>game_id</th>\n",
       "      <th>team_id_for</th>\n",
       "      <th>team_id_against</th>\n",
       "      <th>event</th>\n",
       "      <th>secondaryType</th>\n",
       "      <th>x</th>\n",
       "      <th>y</th>\n",
       "      <th>period</th>\n",
       "      <th>periodType</th>\n",
       "      <th>periodTime</th>\n",
       "      <th>periodTimeRemaining</th>\n",
       "      <th>dateTime</th>\n",
       "      <th>goals_away</th>\n",
       "      <th>goals_home</th>\n",
       "      <th>description</th>\n",
       "      <th>st_x</th>\n",
       "      <th>st_y</th>\n",
       "    </tr>\n",
       "  </thead>\n",
       "  <tbody>\n",
       "    <tr>\n",
       "      <th>3202</th>\n",
       "      <td>2015020346_404</td>\n",
       "      <td>2015020346</td>\n",
       "      <td>NaN</td>\n",
       "      <td>NaN</td>\n",
       "      <td>Shootout Complete</td>\n",
       "      <td>NaN</td>\n",
       "      <td>NaN</td>\n",
       "      <td>NaN</td>\n",
       "      <td>5</td>\n",
       "      <td>SHOOTOUT</td>\n",
       "      <td>0</td>\n",
       "      <td>300.0</td>\n",
       "      <td>2015-11-29 03:00:11</td>\n",
       "      <td>2</td>\n",
       "      <td>2</td>\n",
       "      <td>End of Shootout</td>\n",
       "      <td>NaN</td>\n",
       "      <td>NaN</td>\n",
       "    </tr>\n",
       "    <tr>\n",
       "      <th>5392</th>\n",
       "      <td>2016021020_331</td>\n",
       "      <td>2016021020</td>\n",
       "      <td>NaN</td>\n",
       "      <td>NaN</td>\n",
       "      <td>Shootout Complete</td>\n",
       "      <td>NaN</td>\n",
       "      <td>NaN</td>\n",
       "      <td>NaN</td>\n",
       "      <td>5</td>\n",
       "      <td>SHOOTOUT</td>\n",
       "      <td>0</td>\n",
       "      <td>300.0</td>\n",
       "      <td>2017-03-14 03:51:56</td>\n",
       "      <td>3</td>\n",
       "      <td>3</td>\n",
       "      <td>End of Shootout</td>\n",
       "      <td>NaN</td>\n",
       "      <td>NaN</td>\n",
       "    </tr>\n",
       "    <tr>\n",
       "      <th>8176</th>\n",
       "      <td>2015020086_320</td>\n",
       "      <td>2015020086</td>\n",
       "      <td>NaN</td>\n",
       "      <td>NaN</td>\n",
       "      <td>Shootout Complete</td>\n",
       "      <td>NaN</td>\n",
       "      <td>NaN</td>\n",
       "      <td>NaN</td>\n",
       "      <td>5</td>\n",
       "      <td>SHOOTOUT</td>\n",
       "      <td>0</td>\n",
       "      <td>300.0</td>\n",
       "      <td>2015-10-21 03:51:04</td>\n",
       "      <td>4</td>\n",
       "      <td>4</td>\n",
       "      <td>End of Shootout</td>\n",
       "      <td>NaN</td>\n",
       "      <td>NaN</td>\n",
       "    </tr>\n",
       "    <tr>\n",
       "      <th>13662</th>\n",
       "      <td>2017020930_355</td>\n",
       "      <td>2017020930</td>\n",
       "      <td>NaN</td>\n",
       "      <td>NaN</td>\n",
       "      <td>Shootout Complete</td>\n",
       "      <td>NaN</td>\n",
       "      <td>NaN</td>\n",
       "      <td>NaN</td>\n",
       "      <td>5</td>\n",
       "      <td>SHOOTOUT</td>\n",
       "      <td>0</td>\n",
       "      <td>300.0</td>\n",
       "      <td>2018-02-23 02:47:48</td>\n",
       "      <td>3</td>\n",
       "      <td>3</td>\n",
       "      <td>End of Shootout</td>\n",
       "      <td>NaN</td>\n",
       "      <td>NaN</td>\n",
       "    </tr>\n",
       "    <tr>\n",
       "      <th>19595</th>\n",
       "      <td>2016020674_323</td>\n",
       "      <td>2016020674</td>\n",
       "      <td>NaN</td>\n",
       "      <td>NaN</td>\n",
       "      <td>Shootout Complete</td>\n",
       "      <td>NaN</td>\n",
       "      <td>NaN</td>\n",
       "      <td>NaN</td>\n",
       "      <td>5</td>\n",
       "      <td>SHOOTOUT</td>\n",
       "      <td>0</td>\n",
       "      <td>300.0</td>\n",
       "      <td>2017-01-19 03:58:58</td>\n",
       "      <td>5</td>\n",
       "      <td>5</td>\n",
       "      <td>End of Shootout</td>\n",
       "      <td>NaN</td>\n",
       "      <td>NaN</td>\n",
       "    </tr>\n",
       "    <tr>\n",
       "      <th>...</th>\n",
       "      <td>...</td>\n",
       "      <td>...</td>\n",
       "      <td>...</td>\n",
       "      <td>...</td>\n",
       "      <td>...</td>\n",
       "      <td>...</td>\n",
       "      <td>...</td>\n",
       "      <td>...</td>\n",
       "      <td>...</td>\n",
       "      <td>...</td>\n",
       "      <td>...</td>\n",
       "      <td>...</td>\n",
       "      <td>...</td>\n",
       "      <td>...</td>\n",
       "      <td>...</td>\n",
       "      <td>...</td>\n",
       "      <td>...</td>\n",
       "      <td>...</td>\n",
       "    </tr>\n",
       "    <tr>\n",
       "      <th>4977055</th>\n",
       "      <td>2018021254_377</td>\n",
       "      <td>2018021254</td>\n",
       "      <td>NaN</td>\n",
       "      <td>NaN</td>\n",
       "      <td>Shootout Complete</td>\n",
       "      <td>NaN</td>\n",
       "      <td>NaN</td>\n",
       "      <td>NaN</td>\n",
       "      <td>5</td>\n",
       "      <td>SHOOTOUT</td>\n",
       "      <td>0</td>\n",
       "      <td>0.0</td>\n",
       "      <td>2019-04-06 02:51:27</td>\n",
       "      <td>2</td>\n",
       "      <td>2</td>\n",
       "      <td>End of Shootout</td>\n",
       "      <td>NaN</td>\n",
       "      <td>NaN</td>\n",
       "    </tr>\n",
       "    <tr>\n",
       "      <th>4979264</th>\n",
       "      <td>2018021258_297</td>\n",
       "      <td>2018021258</td>\n",
       "      <td>NaN</td>\n",
       "      <td>NaN</td>\n",
       "      <td>Shootout Complete</td>\n",
       "      <td>NaN</td>\n",
       "      <td>NaN</td>\n",
       "      <td>NaN</td>\n",
       "      <td>5</td>\n",
       "      <td>SHOOTOUT</td>\n",
       "      <td>0</td>\n",
       "      <td>0.0</td>\n",
       "      <td>2019-04-06 23:45:45</td>\n",
       "      <td>2</td>\n",
       "      <td>2</td>\n",
       "      <td>End of Shootout</td>\n",
       "      <td>NaN</td>\n",
       "      <td>NaN</td>\n",
       "    </tr>\n",
       "    <tr>\n",
       "      <th>4979677</th>\n",
       "      <td>2018021259_409</td>\n",
       "      <td>2018021259</td>\n",
       "      <td>NaN</td>\n",
       "      <td>NaN</td>\n",
       "      <td>Shootout Complete</td>\n",
       "      <td>NaN</td>\n",
       "      <td>NaN</td>\n",
       "      <td>NaN</td>\n",
       "      <td>5</td>\n",
       "      <td>SHOOTOUT</td>\n",
       "      <td>0</td>\n",
       "      <td>0.0</td>\n",
       "      <td>2019-04-07 03:09:43</td>\n",
       "      <td>5</td>\n",
       "      <td>5</td>\n",
       "      <td>End of Shootout</td>\n",
       "      <td>NaN</td>\n",
       "      <td>NaN</td>\n",
       "    </tr>\n",
       "    <tr>\n",
       "      <th>4983998</th>\n",
       "      <td>2018021258_297</td>\n",
       "      <td>2018021258</td>\n",
       "      <td>NaN</td>\n",
       "      <td>NaN</td>\n",
       "      <td>Shootout Complete</td>\n",
       "      <td>NaN</td>\n",
       "      <td>NaN</td>\n",
       "      <td>NaN</td>\n",
       "      <td>5</td>\n",
       "      <td>SHOOTOUT</td>\n",
       "      <td>0</td>\n",
       "      <td>0.0</td>\n",
       "      <td>2019-04-06 23:45:45</td>\n",
       "      <td>2</td>\n",
       "      <td>2</td>\n",
       "      <td>End of Shootout</td>\n",
       "      <td>NaN</td>\n",
       "      <td>NaN</td>\n",
       "    </tr>\n",
       "    <tr>\n",
       "      <th>4984408</th>\n",
       "      <td>2018021259_409</td>\n",
       "      <td>2018021259</td>\n",
       "      <td>NaN</td>\n",
       "      <td>NaN</td>\n",
       "      <td>Shootout Complete</td>\n",
       "      <td>NaN</td>\n",
       "      <td>NaN</td>\n",
       "      <td>NaN</td>\n",
       "      <td>5</td>\n",
       "      <td>SHOOTOUT</td>\n",
       "      <td>0</td>\n",
       "      <td>0.0</td>\n",
       "      <td>2019-04-07 03:09:43</td>\n",
       "      <td>5</td>\n",
       "      <td>5</td>\n",
       "      <td>End of Shootout</td>\n",
       "      <td>NaN</td>\n",
       "      <td>NaN</td>\n",
       "    </tr>\n",
       "  </tbody>\n",
       "</table>\n",
       "<p>1456 rows × 18 columns</p>\n",
       "</div>"
      ],
      "text/plain": [
       "                play_id     game_id  team_id_for  team_id_against  \\\n",
       "3202     2015020346_404  2015020346          NaN              NaN   \n",
       "5392     2016021020_331  2016021020          NaN              NaN   \n",
       "8176     2015020086_320  2015020086          NaN              NaN   \n",
       "13662    2017020930_355  2017020930          NaN              NaN   \n",
       "19595    2016020674_323  2016020674          NaN              NaN   \n",
       "...                 ...         ...          ...              ...   \n",
       "4977055  2018021254_377  2018021254          NaN              NaN   \n",
       "4979264  2018021258_297  2018021258          NaN              NaN   \n",
       "4979677  2018021259_409  2018021259          NaN              NaN   \n",
       "4983998  2018021258_297  2018021258          NaN              NaN   \n",
       "4984408  2018021259_409  2018021259          NaN              NaN   \n",
       "\n",
       "                     event secondaryType   x   y  period periodType  \\\n",
       "3202     Shootout Complete           NaN NaN NaN       5   SHOOTOUT   \n",
       "5392     Shootout Complete           NaN NaN NaN       5   SHOOTOUT   \n",
       "8176     Shootout Complete           NaN NaN NaN       5   SHOOTOUT   \n",
       "13662    Shootout Complete           NaN NaN NaN       5   SHOOTOUT   \n",
       "19595    Shootout Complete           NaN NaN NaN       5   SHOOTOUT   \n",
       "...                    ...           ...  ..  ..     ...        ...   \n",
       "4977055  Shootout Complete           NaN NaN NaN       5   SHOOTOUT   \n",
       "4979264  Shootout Complete           NaN NaN NaN       5   SHOOTOUT   \n",
       "4979677  Shootout Complete           NaN NaN NaN       5   SHOOTOUT   \n",
       "4983998  Shootout Complete           NaN NaN NaN       5   SHOOTOUT   \n",
       "4984408  Shootout Complete           NaN NaN NaN       5   SHOOTOUT   \n",
       "\n",
       "         periodTime  periodTimeRemaining             dateTime  goals_away  \\\n",
       "3202              0                300.0  2015-11-29 03:00:11           2   \n",
       "5392              0                300.0  2017-03-14 03:51:56           3   \n",
       "8176              0                300.0  2015-10-21 03:51:04           4   \n",
       "13662             0                300.0  2018-02-23 02:47:48           3   \n",
       "19595             0                300.0  2017-01-19 03:58:58           5   \n",
       "...             ...                  ...                  ...         ...   \n",
       "4977055           0                  0.0  2019-04-06 02:51:27           2   \n",
       "4979264           0                  0.0  2019-04-06 23:45:45           2   \n",
       "4979677           0                  0.0  2019-04-07 03:09:43           5   \n",
       "4983998           0                  0.0  2019-04-06 23:45:45           2   \n",
       "4984408           0                  0.0  2019-04-07 03:09:43           5   \n",
       "\n",
       "         goals_home      description  st_x  st_y  \n",
       "3202              2  End of Shootout   NaN   NaN  \n",
       "5392              3  End of Shootout   NaN   NaN  \n",
       "8176              4  End of Shootout   NaN   NaN  \n",
       "13662             3  End of Shootout   NaN   NaN  \n",
       "19595             5  End of Shootout   NaN   NaN  \n",
       "...             ...              ...   ...   ...  \n",
       "4977055           2  End of Shootout   NaN   NaN  \n",
       "4979264           2  End of Shootout   NaN   NaN  \n",
       "4979677           5  End of Shootout   NaN   NaN  \n",
       "4983998           2  End of Shootout   NaN   NaN  \n",
       "4984408           5  End of Shootout   NaN   NaN  \n",
       "\n",
       "[1456 rows x 18 columns]"
      ]
     },
     "execution_count": 46,
     "metadata": {},
     "output_type": "execute_result"
    }
   ],
   "source": [
    "game_plays[game_plays['event'] == 'Shootout Complete']"
   ]
  },
  {
   "cell_type": "code",
   "execution_count": 47,
   "metadata": {},
   "outputs": [
    {
     "data": {
      "text/plain": [
       "game_id\n",
       "False    3383597\n",
       "True      833466\n",
       "Name: count, dtype: int64"
      ]
     },
     "execution_count": 47,
     "metadata": {},
     "output_type": "execute_result"
    }
   ],
   "source": [
    "duplicate_plays = game_plays.groupby(['play_id'])['game_id'].count() > 1\n",
    "duplicate_plays.value_counts()"
   ]
  },
  {
   "cell_type": "markdown",
   "metadata": {},
   "source": [
    "There is some duplication based on the play_id. We should attempt to drop duplicates with the same play_id, in the same game, happening at the same exact time."
   ]
  },
  {
   "cell_type": "code",
   "execution_count": 48,
   "metadata": {},
   "outputs": [],
   "source": [
    "subset_columns = ['play_id', 'game_id', 'dateTime']\n",
    "game_plays = game_plays.drop_duplicates(subset=subset_columns, keep=\"first\")"
   ]
  },
  {
   "cell_type": "code",
   "execution_count": 49,
   "metadata": {},
   "outputs": [
    {
     "data": {
      "text/plain": [
       "game_id\n",
       "False    4217063\n",
       "Name: count, dtype: int64"
      ]
     },
     "execution_count": 49,
     "metadata": {},
     "output_type": "execute_result"
    }
   ],
   "source": [
    "duplicate_plays = game_plays.groupby(subset_columns)['game_id'].count() > 1\n",
    "duplicate_plays.value_counts()"
   ]
  },
  {
   "cell_type": "markdown",
   "metadata": {},
   "source": [
    "With no more duplicates, we can take a look at the data we're most interested in, shots and goals"
   ]
  },
  {
   "cell_type": "code",
   "execution_count": 50,
   "metadata": {},
   "outputs": [
    {
     "data": {
      "text/html": [
       "<div>\n",
       "<style scoped>\n",
       "    .dataframe tbody tr th:only-of-type {\n",
       "        vertical-align: middle;\n",
       "    }\n",
       "\n",
       "    .dataframe tbody tr th {\n",
       "        vertical-align: top;\n",
       "    }\n",
       "\n",
       "    .dataframe thead th {\n",
       "        text-align: right;\n",
       "    }\n",
       "</style>\n",
       "<table border=\"1\" class=\"dataframe\">\n",
       "  <thead>\n",
       "    <tr style=\"text-align: right;\">\n",
       "      <th></th>\n",
       "      <th>play_id</th>\n",
       "      <th>game_id</th>\n",
       "      <th>team_id_for</th>\n",
       "      <th>team_id_against</th>\n",
       "      <th>event</th>\n",
       "      <th>secondaryType</th>\n",
       "      <th>x</th>\n",
       "      <th>y</th>\n",
       "      <th>period</th>\n",
       "      <th>periodType</th>\n",
       "      <th>periodTime</th>\n",
       "      <th>periodTimeRemaining</th>\n",
       "      <th>dateTime</th>\n",
       "      <th>goals_away</th>\n",
       "      <th>goals_home</th>\n",
       "      <th>description</th>\n",
       "      <th>st_x</th>\n",
       "      <th>st_y</th>\n",
       "    </tr>\n",
       "  </thead>\n",
       "  <tbody>\n",
       "    <tr>\n",
       "      <th>4</th>\n",
       "      <td>2016020045_5</td>\n",
       "      <td>2016020045</td>\n",
       "      <td>16.0</td>\n",
       "      <td>4.0</td>\n",
       "      <td>Shot</td>\n",
       "      <td>Wrist Shot</td>\n",
       "      <td>-71.0</td>\n",
       "      <td>9.0</td>\n",
       "      <td>1</td>\n",
       "      <td>REGULAR</td>\n",
       "      <td>54</td>\n",
       "      <td>1146.0</td>\n",
       "      <td>2016-10-19 01:41:44</td>\n",
       "      <td>0</td>\n",
       "      <td>0</td>\n",
       "      <td>Artem Anisimov Wrist Shot saved by Michal Neuv...</td>\n",
       "      <td>71.0</td>\n",
       "      <td>-9.0</td>\n",
       "    </tr>\n",
       "    <tr>\n",
       "      <th>7</th>\n",
       "      <td>2016020045_8</td>\n",
       "      <td>2016020045</td>\n",
       "      <td>4.0</td>\n",
       "      <td>16.0</td>\n",
       "      <td>Shot</td>\n",
       "      <td>Wrist Shot</td>\n",
       "      <td>56.0</td>\n",
       "      <td>-7.0</td>\n",
       "      <td>1</td>\n",
       "      <td>REGULAR</td>\n",
       "      <td>69</td>\n",
       "      <td>1131.0</td>\n",
       "      <td>2016-10-19 01:42:41</td>\n",
       "      <td>0</td>\n",
       "      <td>1</td>\n",
       "      <td>Dale Weise Wrist Shot saved by Corey Crawford</td>\n",
       "      <td>56.0</td>\n",
       "      <td>-7.0</td>\n",
       "    </tr>\n",
       "    <tr>\n",
       "      <th>11</th>\n",
       "      <td>2016020045_12</td>\n",
       "      <td>2016020045</td>\n",
       "      <td>16.0</td>\n",
       "      <td>4.0</td>\n",
       "      <td>Shot</td>\n",
       "      <td>Slap Shot</td>\n",
       "      <td>-37.0</td>\n",
       "      <td>-24.0</td>\n",
       "      <td>1</td>\n",
       "      <td>REGULAR</td>\n",
       "      <td>133</td>\n",
       "      <td>1067.0</td>\n",
       "      <td>2016-10-19 01:43:45</td>\n",
       "      <td>0</td>\n",
       "      <td>1</td>\n",
       "      <td>Duncan Keith Slap Shot saved by Michal Neuvirth</td>\n",
       "      <td>37.0</td>\n",
       "      <td>24.0</td>\n",
       "    </tr>\n",
       "    <tr>\n",
       "      <th>16</th>\n",
       "      <td>2016020045_17</td>\n",
       "      <td>2016020045</td>\n",
       "      <td>4.0</td>\n",
       "      <td>16.0</td>\n",
       "      <td>Shot</td>\n",
       "      <td>Wrist Shot</td>\n",
       "      <td>57.0</td>\n",
       "      <td>-20.0</td>\n",
       "      <td>1</td>\n",
       "      <td>REGULAR</td>\n",
       "      <td>168</td>\n",
       "      <td>1032.0</td>\n",
       "      <td>2016-10-19 01:44:54</td>\n",
       "      <td>0</td>\n",
       "      <td>1</td>\n",
       "      <td>Wayne Simmonds Wrist Shot saved by Corey Crawford</td>\n",
       "      <td>57.0</td>\n",
       "      <td>-20.0</td>\n",
       "    </tr>\n",
       "    <tr>\n",
       "      <th>18</th>\n",
       "      <td>2016020045_19</td>\n",
       "      <td>2016020045</td>\n",
       "      <td>4.0</td>\n",
       "      <td>16.0</td>\n",
       "      <td>Shot</td>\n",
       "      <td>Slap Shot</td>\n",
       "      <td>34.0</td>\n",
       "      <td>14.0</td>\n",
       "      <td>1</td>\n",
       "      <td>REGULAR</td>\n",
       "      <td>171</td>\n",
       "      <td>1029.0</td>\n",
       "      <td>2016-10-19 01:45:01</td>\n",
       "      <td>0</td>\n",
       "      <td>1</td>\n",
       "      <td>Shayne Gostisbehere Slap Shot saved by Corey C...</td>\n",
       "      <td>34.0</td>\n",
       "      <td>14.0</td>\n",
       "    </tr>\n",
       "  </tbody>\n",
       "</table>\n",
       "</div>"
      ],
      "text/plain": [
       "          play_id     game_id  team_id_for  team_id_against event  \\\n",
       "4    2016020045_5  2016020045         16.0              4.0  Shot   \n",
       "7    2016020045_8  2016020045          4.0             16.0  Shot   \n",
       "11  2016020045_12  2016020045         16.0              4.0  Shot   \n",
       "16  2016020045_17  2016020045          4.0             16.0  Shot   \n",
       "18  2016020045_19  2016020045          4.0             16.0  Shot   \n",
       "\n",
       "   secondaryType     x     y  period periodType  periodTime  \\\n",
       "4     Wrist Shot -71.0   9.0       1    REGULAR          54   \n",
       "7     Wrist Shot  56.0  -7.0       1    REGULAR          69   \n",
       "11     Slap Shot -37.0 -24.0       1    REGULAR         133   \n",
       "16    Wrist Shot  57.0 -20.0       1    REGULAR         168   \n",
       "18     Slap Shot  34.0  14.0       1    REGULAR         171   \n",
       "\n",
       "    periodTimeRemaining             dateTime  goals_away  goals_home  \\\n",
       "4                1146.0  2016-10-19 01:41:44           0           0   \n",
       "7                1131.0  2016-10-19 01:42:41           0           1   \n",
       "11               1067.0  2016-10-19 01:43:45           0           1   \n",
       "16               1032.0  2016-10-19 01:44:54           0           1   \n",
       "18               1029.0  2016-10-19 01:45:01           0           1   \n",
       "\n",
       "                                          description  st_x  st_y  \n",
       "4   Artem Anisimov Wrist Shot saved by Michal Neuv...  71.0  -9.0  \n",
       "7       Dale Weise Wrist Shot saved by Corey Crawford  56.0  -7.0  \n",
       "11    Duncan Keith Slap Shot saved by Michal Neuvirth  37.0  24.0  \n",
       "16  Wayne Simmonds Wrist Shot saved by Corey Crawford  57.0 -20.0  \n",
       "18  Shayne Gostisbehere Slap Shot saved by Corey C...  34.0  14.0  "
      ]
     },
     "execution_count": 50,
     "metadata": {},
     "output_type": "execute_result"
    }
   ],
   "source": [
    "shots = game_plays[game_plays['event'] == \"Shot\"]\n",
    "shots.head()"
   ]
  },
  {
   "cell_type": "code",
   "execution_count": 51,
   "metadata": {},
   "outputs": [
    {
     "data": {
      "text/plain": [
       "secondaryType\n",
       "Wrist Shot     362395\n",
       "Slap Shot      131801\n",
       "Snap Shot       99914\n",
       "Backhand        56995\n",
       "Tip-In          29572\n",
       "Deflected        9418\n",
       "Wrap-around      8246\n",
       "Name: count, dtype: int64"
      ]
     },
     "execution_count": 51,
     "metadata": {},
     "output_type": "execute_result"
    }
   ],
   "source": [
    "shots['secondaryType'].value_counts()"
   ]
  },
  {
   "cell_type": "code",
   "execution_count": 52,
   "metadata": {},
   "outputs": [
    {
     "data": {
      "text/plain": [
       "np.int64(24)"
      ]
     },
     "execution_count": 52,
     "metadata": {},
     "output_type": "execute_result"
    }
   ],
   "source": [
    "shots['secondaryType'].isna().sum()"
   ]
  },
  {
   "cell_type": "markdown",
   "metadata": {},
   "source": [
    "There are very few missing shots, we can fill them with the mode 'Wrist Shot'"
   ]
  },
  {
   "cell_type": "code",
   "execution_count": 68,
   "metadata": {},
   "outputs": [],
   "source": [
    "shot_mask = game_plays['event'] == 'Shot'\n",
    "game_plays.loc[shot_mask, 'secondaryType'] = game_plays.loc[shot_mask, 'secondaryType'].fillna('Wrist Shot')"
   ]
  },
  {
   "cell_type": "code",
   "execution_count": 71,
   "metadata": {},
   "outputs": [
    {
     "data": {
      "text/plain": [
       "np.int64(0)"
      ]
     },
     "execution_count": 71,
     "metadata": {},
     "output_type": "execute_result"
    }
   ],
   "source": [
    "game_plays[shot_mask]['secondaryType'].isna().sum()"
   ]
  },
  {
   "cell_type": "markdown",
   "metadata": {},
   "source": [
    "With the missing values for secondaryType populated, this data is ready to go!"
   ]
  },
  {
   "cell_type": "code",
   "execution_count": 72,
   "metadata": {},
   "outputs": [],
   "source": [
    "game_plays.to_pickle(PICKLE_PATH / \"game_plays\")"
   ]
  },
  {
   "cell_type": "markdown",
   "metadata": {},
   "source": [
    "### Game Data\n",
    "This table gives data about the game itself. Each game has an ID, the season it was played in, the teams that participated, the score and outcome, and venue data"
   ]
  },
  {
   "cell_type": "code",
   "execution_count": 5,
   "metadata": {},
   "outputs": [
    {
     "name": "stdout",
     "output_type": "stream",
     "text": [
      "<class 'pandas.core.frame.DataFrame'>\n",
      "RangeIndex: 26305 entries, 0 to 26304\n",
      "Data columns (total 15 columns):\n",
      " #   Column                  Non-Null Count  Dtype \n",
      "---  ------                  --------------  ----- \n",
      " 0   game_id                 26305 non-null  int64 \n",
      " 1   season                  26305 non-null  int64 \n",
      " 2   type                    26305 non-null  object\n",
      " 3   date_time_GMT           26305 non-null  object\n",
      " 4   away_team_id            26305 non-null  int64 \n",
      " 5   home_team_id            26305 non-null  int64 \n",
      " 6   away_goals              26305 non-null  int64 \n",
      " 7   home_goals              26305 non-null  int64 \n",
      " 8   outcome                 26305 non-null  object\n",
      " 9   home_rink_side_start    25109 non-null  object\n",
      " 10  venue                   26305 non-null  object\n",
      " 11  venue_link              26305 non-null  object\n",
      " 12  venue_time_zone_id      26305 non-null  object\n",
      " 13  venue_time_zone_offset  26305 non-null  int64 \n",
      " 14  venue_time_zone_tz      26305 non-null  object\n",
      "dtypes: int64(7), object(8)\n",
      "memory usage: 3.0+ MB\n"
     ]
    }
   ],
   "source": [
    "games = pd.read_csv(DATA_PATH / \"game.csv\")\n",
    "games.info()"
   ]
  },
  {
   "cell_type": "code",
   "execution_count": 6,
   "metadata": {},
   "outputs": [
    {
     "data": {
      "text/plain": [
       "(26305, 15)"
      ]
     },
     "execution_count": 6,
     "metadata": {},
     "output_type": "execute_result"
    }
   ],
   "source": [
    "games.shape"
   ]
  },
  {
   "cell_type": "code",
   "execution_count": 13,
   "metadata": {},
   "outputs": [
    {
     "data": {
      "text/plain": [
       "array([20162017, 20172018, 20152016, 20142015, 20132014, 20122013,\n",
       "       20112012, 20102011, 20092010, 20082009, 20072008, 20062007,\n",
       "       20022003, 20032004, 20052006, 20002001, 20012002, 20192020,\n",
       "       20182019])"
      ]
     },
     "execution_count": 13,
     "metadata": {},
     "output_type": "execute_result"
    }
   ],
   "source": [
    "games['season'].unique()"
   ]
  },
  {
   "cell_type": "markdown",
   "metadata": {},
   "source": [
    "We have no null data in the games set, let's check for duplicates."
   ]
  },
  {
   "cell_type": "code",
   "execution_count": 5,
   "metadata": {},
   "outputs": [
    {
     "data": {
      "text/plain": [
       "season\n",
       "False    21165\n",
       "True      2570\n",
       "Name: count, dtype: int64"
      ]
     },
     "execution_count": 5,
     "metadata": {},
     "output_type": "execute_result"
    }
   ],
   "source": [
    "duplicate_games = games.groupby(['game_id'])['season'].count() > 1\n",
    "duplicate_games.value_counts()"
   ]
  },
  {
   "cell_type": "markdown",
   "metadata": {},
   "source": [
    "Looks like there is some duplication. We can say for sure that no two games should have the same id, season, venue, and teams involved. If all those factors were the same, the game row is certainly duplicate"
   ]
  },
  {
   "cell_type": "code",
   "execution_count": 6,
   "metadata": {},
   "outputs": [],
   "source": [
    "subset_columns = ['game_id', 'season', 'venue', 'away_team_id', 'home_team_id']\n",
    "games = games.drop_duplicates(subset=subset_columns, keep=\"first\")"
   ]
  },
  {
   "cell_type": "code",
   "execution_count": 7,
   "metadata": {},
   "outputs": [
    {
     "data": {
      "text/plain": [
       "(23735, 15)"
      ]
     },
     "execution_count": 7,
     "metadata": {},
     "output_type": "execute_result"
    }
   ],
   "source": [
    "games.shape"
   ]
  },
  {
   "cell_type": "code",
   "execution_count": 8,
   "metadata": {},
   "outputs": [],
   "source": [
    "games.to_pickle(PICKLE_PATH+\"games\")"
   ]
  },
  {
   "cell_type": "markdown",
   "metadata": {},
   "source": [
    "### Game Teams stats\n",
    "This table gives aggregate statistics and other team data for each game. Goals, shots, hits, penalties, faceoff win %, etc."
   ]
  },
  {
   "cell_type": "code",
   "execution_count": 15,
   "metadata": {},
   "outputs": [
    {
     "name": "stdout",
     "output_type": "stream",
     "text": [
      "<class 'pandas.core.frame.DataFrame'>\n",
      "RangeIndex: 52610 entries, 0 to 52609\n",
      "Data columns (total 17 columns):\n",
      " #   Column                  Non-Null Count  Dtype  \n",
      "---  ------                  --------------  -----  \n",
      " 0   game_id                 52610 non-null  int64  \n",
      " 1   team_id                 52610 non-null  int64  \n",
      " 2   HoA                     52610 non-null  object \n",
      " 3   won                     52610 non-null  bool   \n",
      " 4   settled_in              52610 non-null  object \n",
      " 5   head_coach              52582 non-null  object \n",
      " 6   goals                   52602 non-null  float64\n",
      " 7   shots                   52602 non-null  float64\n",
      " 8   hits                    47682 non-null  float64\n",
      " 9   pim                     52602 non-null  float64\n",
      " 10  powerPlayOpportunities  52602 non-null  float64\n",
      " 11  powerPlayGoals          52602 non-null  float64\n",
      " 12  faceOffWinPercentage    30462 non-null  float64\n",
      " 13  giveaways               47682 non-null  float64\n",
      " 14  takeaways               47682 non-null  float64\n",
      " 15  blocked                 47682 non-null  float64\n",
      " 16  startRinkSide           50218 non-null  object \n",
      "dtypes: bool(1), float64(10), int64(2), object(4)\n",
      "memory usage: 6.5+ MB\n"
     ]
    }
   ],
   "source": [
    "game_teams = pd.read_csv(DATA_PATH / \"game_teams_stats.csv\")\n",
    "game_teams.info()"
   ]
  },
  {
   "cell_type": "code",
   "execution_count": 16,
   "metadata": {},
   "outputs": [
    {
     "data": {
      "text/plain": [
       "(52610, 17)"
      ]
     },
     "execution_count": 16,
     "metadata": {},
     "output_type": "execute_result"
    }
   ],
   "source": [
    "game_teams.shape"
   ]
  },
  {
   "cell_type": "markdown",
   "metadata": {},
   "source": [
    "There is some null data in faceoff win %, giveaways, takeaways, hits. Hits were not always a tracked stat and were only begun to be measured at some point during the timeline of this data, so we are expecting some missing values. For the others, the data isn't in areas we anticipate investigating heavily, so we will forego imputing any values for now.\n",
    "\n",
    "Let's move on to inspecting for duplication."
   ]
  },
  {
   "cell_type": "code",
   "execution_count": 17,
   "metadata": {},
   "outputs": [
    {
     "data": {
      "text/plain": [
       "won\n",
       "False    42330\n",
       "True      5140\n",
       "Name: count, dtype: int64"
      ]
     },
     "execution_count": 17,
     "metadata": {},
     "output_type": "execute_result"
    }
   ],
   "source": [
    "team_duplicates = game_teams.groupby(['game_id', 'team_id'])['won'].count() > 1\n",
    "team_duplicates.value_counts()"
   ]
  },
  {
   "cell_type": "markdown",
   "metadata": {},
   "source": [
    "No game should have the same id with multiple entries for two teams of the same id. Ex. for each game there should be two entries, one for each team."
   ]
  },
  {
   "cell_type": "code",
   "execution_count": 13,
   "metadata": {},
   "outputs": [],
   "source": [
    "subset_columns = ['game_id', 'team_id']\n",
    "game_teams = game_teams.drop_duplicates(subset=subset_columns, keep=\"first\")"
   ]
  },
  {
   "cell_type": "code",
   "execution_count": 14,
   "metadata": {},
   "outputs": [
    {
     "data": {
      "text/plain": [
       "(47470, 17)"
      ]
     },
     "execution_count": 14,
     "metadata": {},
     "output_type": "execute_result"
    }
   ],
   "source": [
    "game_teams.shape"
   ]
  },
  {
   "cell_type": "markdown",
   "metadata": {},
   "source": [
    "Duplicates dropped, and a consistent result mathematically with our games set. "
   ]
  },
  {
   "cell_type": "code",
   "execution_count": 18,
   "metadata": {},
   "outputs": [],
   "source": [
    "game_teams.to_pickle(PICKLE_PATH / \"game_teams\")"
   ]
  },
  {
   "cell_type": "markdown",
   "metadata": {},
   "source": [
    "### Game Plays Players\n",
    "This table is an intermediate mapping table for matching game_plays to player_info. It contains a play_id, game_id, and player_id along with playerType"
   ]
  },
  {
   "cell_type": "code",
   "execution_count": 20,
   "metadata": {},
   "outputs": [
    {
     "name": "stdout",
     "output_type": "stream",
     "text": [
      "<class 'pandas.core.frame.DataFrame'>\n",
      "RangeIndex: 7586604 entries, 0 to 7586603\n",
      "Data columns (total 4 columns):\n",
      " #   Column      Dtype \n",
      "---  ------      ----- \n",
      " 0   play_id     object\n",
      " 1   game_id     int64 \n",
      " 2   player_id   int64 \n",
      " 3   playerType  object\n",
      "dtypes: int64(2), object(2)\n",
      "memory usage: 231.5+ MB\n"
     ]
    }
   ],
   "source": [
    "game_plays_players = pd.read_csv(DATA_PATH / \"game_plays_players.csv\")\n",
    "game_plays_players.info()"
   ]
  },
  {
   "cell_type": "markdown",
   "metadata": {},
   "source": [
    "Let's inspect what information is stored in the playerType field"
   ]
  },
  {
   "cell_type": "code",
   "execution_count": 21,
   "metadata": {},
   "outputs": [
    {
     "data": {
      "text/plain": [
       "playerType\n",
       "Shooter      1634308\n",
       "Goalie        990290\n",
       "Loser         894041\n",
       "Winner        894041\n",
       "Hittee        706098\n",
       "Hitter        706098\n",
       "PlayerID      485171\n",
       "Blocker       431926\n",
       "PenaltyOn     247733\n",
       "Assist        245702\n",
       "DrewBy        198271\n",
       "Scorer        148992\n",
       "ServedBy        3021\n",
       "Unknown          912\n",
       "Name: count, dtype: int64"
      ]
     },
     "execution_count": 21,
     "metadata": {},
     "output_type": "execute_result"
    }
   ],
   "source": [
    "game_plays_players['playerType'].value_counts()"
   ]
  },
  {
   "cell_type": "markdown",
   "metadata": {},
   "source": [
    "It looks like the playerType is informative to the type of event happening in the play. Let's check for duplicate values."
   ]
  },
  {
   "cell_type": "code",
   "execution_count": 23,
   "metadata": {},
   "outputs": [
    {
     "data": {
      "text/plain": [
       "playerType\n",
       "False    5138998\n",
       "True     1223803\n",
       "Name: count, dtype: int64"
      ]
     },
     "execution_count": 23,
     "metadata": {},
     "output_type": "execute_result"
    }
   ],
   "source": [
    "duplicate_play_players = game_plays_players.groupby(['play_id', 'game_id', 'player_id'])['playerType'].count() > 1\n",
    "duplicate_play_players.value_counts()"
   ]
  },
  {
   "cell_type": "code",
   "execution_count": 24,
   "metadata": {},
   "outputs": [],
   "source": [
    "subset_columns = ['play_id', 'game_id', 'player_id']\n",
    "game_plays_players = game_plays_players.drop_duplicates(subset=subset_columns, keep=\"first\")"
   ]
  },
  {
   "cell_type": "code",
   "execution_count": 25,
   "metadata": {},
   "outputs": [
    {
     "data": {
      "text/plain": [
       "(6362801, 4)"
      ]
     },
     "execution_count": 25,
     "metadata": {},
     "output_type": "execute_result"
    }
   ],
   "source": [
    "game_plays_players.shape"
   ]
  },
  {
   "cell_type": "code",
   "execution_count": 26,
   "metadata": {},
   "outputs": [],
   "source": [
    "game_plays_players.to_pickle(PICKLE_PATH / 'game_plays_players')"
   ]
  },
  {
   "cell_type": "markdown",
   "metadata": {},
   "source": [
    "### Player Info \n",
    "This table contains biographical information about each player, including first and last name, nationality, birth city, position, birthday."
   ]
  },
  {
   "cell_type": "code",
   "execution_count": 60,
   "metadata": {},
   "outputs": [
    {
     "name": "stdout",
     "output_type": "stream",
     "text": [
      "<class 'pandas.core.frame.DataFrame'>\n",
      "RangeIndex: 3925 entries, 0 to 3924\n",
      "Data columns (total 12 columns):\n",
      " #   Column              Non-Null Count  Dtype  \n",
      "---  ------              --------------  -----  \n",
      " 0   player_id           3925 non-null   int64  \n",
      " 1   firstName           3925 non-null   object \n",
      " 2   lastName            3925 non-null   object \n",
      " 3   nationality         3917 non-null   object \n",
      " 4   birthCity           3920 non-null   object \n",
      " 5   primaryPosition     3925 non-null   object \n",
      " 6   birthDate           3925 non-null   object \n",
      " 7   birthStateProvince  2802 non-null   object \n",
      " 8   height              3922 non-null   object \n",
      " 9   height_cm           3922 non-null   float64\n",
      " 10  weight              3922 non-null   float64\n",
      " 11  shootsCatches       3908 non-null   object \n",
      "dtypes: float64(2), int64(1), object(9)\n",
      "memory usage: 368.1+ KB\n"
     ]
    }
   ],
   "source": [
    "player_info = pd.read_csv(DATA_PATH / \"player_info.csv\")\n",
    "player_info.info()"
   ]
  },
  {
   "cell_type": "markdown",
   "metadata": {},
   "source": [
    "There are no null values in fields of interest for our group. First, Last, birthday  (for age), and position are the only data points we plan to use."
   ]
  },
  {
   "cell_type": "code",
   "execution_count": 61,
   "metadata": {},
   "outputs": [
    {
     "data": {
      "text/plain": [
       "nationality\n",
       "False    3925\n",
       "Name: count, dtype: int64"
      ]
     },
     "execution_count": 61,
     "metadata": {},
     "output_type": "execute_result"
    }
   ],
   "source": [
    "duplicate_players = player_info.groupby(['player_id', 'firstName', 'lastName'])['nationality'].count() > 1\n",
    "duplicate_players.value_counts()"
   ]
  },
  {
   "cell_type": "markdown",
   "metadata": {},
   "source": [
    "There are no duplicate players in the set."
   ]
  },
  {
   "cell_type": "markdown",
   "metadata": {},
   "source": [
    "### Added feature: allStarSeasons\n",
    "\n",
    "We are going to add a feature for each player that contains the years in which they participated in the All Star Game. This can be used to differentiate top quality players in their position against others. Due to the variable skill level players can display throughout different phases of their career, we will use the years, rather than a binary allStar feature\n",
    "\n",
    "First, we read in the all star data, containing season and player names for the all star team rosters"
   ]
  },
  {
   "cell_type": "code",
   "execution_count": 62,
   "metadata": {},
   "outputs": [
    {
     "data": {
      "text/plain": [
       "(639, 2)"
      ]
     },
     "execution_count": 62,
     "metadata": {},
     "output_type": "execute_result"
    }
   ],
   "source": [
    "all_stars = pd.read_csv(DATA_PATH / 'all_star_data.csv')\n",
    "all_stars.shape"
   ]
  },
  {
   "cell_type": "markdown",
   "metadata": {},
   "source": [
    "We need a column to merge on between the all star data and the player_info table, we can use full name (first + last)"
   ]
  },
  {
   "cell_type": "code",
   "execution_count": 63,
   "metadata": {},
   "outputs": [],
   "source": [
    "player_info['fullName'] = player_info['firstName'] + ' ' + player_info['lastName']"
   ]
  },
  {
   "cell_type": "markdown",
   "metadata": {},
   "source": [
    "We can merge the names, then inspect for any columns where we do not find a match. These will be due to non-matching names between the datasets."
   ]
  },
  {
   "cell_type": "code",
   "execution_count": 64,
   "metadata": {},
   "outputs": [
    {
     "data": {
      "text/html": [
       "<div>\n",
       "<style scoped>\n",
       "    .dataframe tbody tr th:only-of-type {\n",
       "        vertical-align: middle;\n",
       "    }\n",
       "\n",
       "    .dataframe tbody tr th {\n",
       "        vertical-align: top;\n",
       "    }\n",
       "\n",
       "    .dataframe thead th {\n",
       "        text-align: right;\n",
       "    }\n",
       "</style>\n",
       "<table border=\"1\" class=\"dataframe\">\n",
       "  <thead>\n",
       "    <tr style=\"text-align: right;\">\n",
       "      <th></th>\n",
       "      <th>Season</th>\n",
       "      <th>Player</th>\n",
       "      <th>player_id</th>\n",
       "      <th>firstName</th>\n",
       "      <th>lastName</th>\n",
       "      <th>nationality</th>\n",
       "      <th>birthCity</th>\n",
       "      <th>primaryPosition</th>\n",
       "      <th>birthDate</th>\n",
       "      <th>birthStateProvince</th>\n",
       "      <th>height</th>\n",
       "      <th>height_cm</th>\n",
       "      <th>weight</th>\n",
       "      <th>shootsCatches</th>\n",
       "      <th>fullName</th>\n",
       "    </tr>\n",
       "  </thead>\n",
       "  <tbody>\n",
       "  </tbody>\n",
       "</table>\n",
       "</div>"
      ],
      "text/plain": [
       "Empty DataFrame\n",
       "Columns: [Season, Player, player_id, firstName, lastName, nationality, birthCity, primaryPosition, birthDate, birthStateProvince, height, height_cm, weight, shootsCatches, fullName]\n",
       "Index: []"
      ]
     },
     "execution_count": 64,
     "metadata": {},
     "output_type": "execute_result"
    }
   ],
   "source": [
    "merged = pd.merge(all_stars, player_info, left_on='Player', right_on='fullName', how='left')\n",
    "merged[merged['player_id'].isna()]"
   ]
  },
  {
   "cell_type": "markdown",
   "metadata": {},
   "source": [
    "We iterated until there were no more missing rows. Most were conflicting spellings, use of nicknames, or use of special characters in names. We corrected these by editing the all star data csv to conform to the data in the player_info table\n",
    "\n",
    "Now we can merge the data to create the allStarSeasons column, which will contain a list of the seasons in which the player was on an all star team roster."
   ]
  },
  {
   "cell_type": "code",
   "execution_count": 65,
   "metadata": {},
   "outputs": [
    {
     "data": {
      "text/html": [
       "<div>\n",
       "<style scoped>\n",
       "    .dataframe tbody tr th:only-of-type {\n",
       "        vertical-align: middle;\n",
       "    }\n",
       "\n",
       "    .dataframe tbody tr th {\n",
       "        vertical-align: top;\n",
       "    }\n",
       "\n",
       "    .dataframe thead th {\n",
       "        text-align: right;\n",
       "    }\n",
       "</style>\n",
       "<table border=\"1\" class=\"dataframe\">\n",
       "  <thead>\n",
       "    <tr style=\"text-align: right;\">\n",
       "      <th></th>\n",
       "      <th>player_id</th>\n",
       "      <th>firstName</th>\n",
       "      <th>lastName</th>\n",
       "      <th>nationality</th>\n",
       "      <th>birthCity</th>\n",
       "      <th>primaryPosition</th>\n",
       "      <th>birthDate</th>\n",
       "      <th>birthStateProvince</th>\n",
       "      <th>height</th>\n",
       "      <th>height_cm</th>\n",
       "      <th>weight</th>\n",
       "      <th>shootsCatches</th>\n",
       "      <th>fullName</th>\n",
       "      <th>allStarSeasons</th>\n",
       "    </tr>\n",
       "  </thead>\n",
       "  <tbody>\n",
       "    <tr>\n",
       "      <th>0</th>\n",
       "      <td>8466148</td>\n",
       "      <td>Marian</td>\n",
       "      <td>Hossa</td>\n",
       "      <td>SVK</td>\n",
       "      <td>Stará Lubovna</td>\n",
       "      <td>RW</td>\n",
       "      <td>1979-01-12 00:00:00</td>\n",
       "      <td>NaN</td>\n",
       "      <td>6' 1\"</td>\n",
       "      <td>185.42</td>\n",
       "      <td>207.0</td>\n",
       "      <td>L</td>\n",
       "      <td>Marian Hossa</td>\n",
       "      <td>[20002001, 20022003, 20062007, 20072008, 20112...</td>\n",
       "    </tr>\n",
       "    <tr>\n",
       "      <th>1</th>\n",
       "      <td>8465058</td>\n",
       "      <td>Michal</td>\n",
       "      <td>Rozsival</td>\n",
       "      <td>CZE</td>\n",
       "      <td>Vlasim</td>\n",
       "      <td>D</td>\n",
       "      <td>1978-09-03 01:00:00</td>\n",
       "      <td>NaN</td>\n",
       "      <td>6' 1\"</td>\n",
       "      <td>185.42</td>\n",
       "      <td>210.0</td>\n",
       "      <td>R</td>\n",
       "      <td>Michal Rozsival</td>\n",
       "      <td>NaN</td>\n",
       "    </tr>\n",
       "    <tr>\n",
       "      <th>2</th>\n",
       "      <td>8476906</td>\n",
       "      <td>Shayne</td>\n",
       "      <td>Gostisbehere</td>\n",
       "      <td>USA</td>\n",
       "      <td>Pembroke Pines</td>\n",
       "      <td>D</td>\n",
       "      <td>1993-04-20 01:00:00</td>\n",
       "      <td>FL</td>\n",
       "      <td>5' 11\"</td>\n",
       "      <td>180.34</td>\n",
       "      <td>180.0</td>\n",
       "      <td>L</td>\n",
       "      <td>Shayne Gostisbehere</td>\n",
       "      <td>NaN</td>\n",
       "    </tr>\n",
       "    <tr>\n",
       "      <th>3</th>\n",
       "      <td>8466285</td>\n",
       "      <td>Brian</td>\n",
       "      <td>Campbell</td>\n",
       "      <td>CAN</td>\n",
       "      <td>Strathroy</td>\n",
       "      <td>D</td>\n",
       "      <td>1979-05-23 01:00:00</td>\n",
       "      <td>ON</td>\n",
       "      <td>5' 10\"</td>\n",
       "      <td>177.80</td>\n",
       "      <td>192.0</td>\n",
       "      <td>L</td>\n",
       "      <td>Brian Campbell</td>\n",
       "      <td>[20062007, 20072008, 20082009, 20112012]</td>\n",
       "    </tr>\n",
       "    <tr>\n",
       "      <th>4</th>\n",
       "      <td>8470607</td>\n",
       "      <td>Brent</td>\n",
       "      <td>Seabrook</td>\n",
       "      <td>CAN</td>\n",
       "      <td>Richmond</td>\n",
       "      <td>D</td>\n",
       "      <td>1985-04-20 01:00:00</td>\n",
       "      <td>BC</td>\n",
       "      <td>6' 3\"</td>\n",
       "      <td>190.50</td>\n",
       "      <td>220.0</td>\n",
       "      <td>R</td>\n",
       "      <td>Brent Seabrook</td>\n",
       "      <td>[20142015]</td>\n",
       "    </tr>\n",
       "    <tr>\n",
       "      <th>...</th>\n",
       "      <td>...</td>\n",
       "      <td>...</td>\n",
       "      <td>...</td>\n",
       "      <td>...</td>\n",
       "      <td>...</td>\n",
       "      <td>...</td>\n",
       "      <td>...</td>\n",
       "      <td>...</td>\n",
       "      <td>...</td>\n",
       "      <td>...</td>\n",
       "      <td>...</td>\n",
       "      <td>...</td>\n",
       "      <td>...</td>\n",
       "      <td>...</td>\n",
       "    </tr>\n",
       "    <tr>\n",
       "      <th>3920</th>\n",
       "      <td>8479374</td>\n",
       "      <td>Adam</td>\n",
       "      <td>Mascherin</td>\n",
       "      <td>CAN</td>\n",
       "      <td>Maple</td>\n",
       "      <td>LW</td>\n",
       "      <td>1998-06-06 01:00:00</td>\n",
       "      <td>ON</td>\n",
       "      <td>5' 10\"</td>\n",
       "      <td>177.80</td>\n",
       "      <td>205.0</td>\n",
       "      <td>L</td>\n",
       "      <td>Adam Mascherin</td>\n",
       "      <td>NaN</td>\n",
       "    </tr>\n",
       "    <tr>\n",
       "      <th>3921</th>\n",
       "      <td>8479403</td>\n",
       "      <td>Tyler</td>\n",
       "      <td>Parsons</td>\n",
       "      <td>USA</td>\n",
       "      <td>Mt. Clemas</td>\n",
       "      <td>G</td>\n",
       "      <td>1997-09-18 01:00:00</td>\n",
       "      <td>MI</td>\n",
       "      <td>6' 1\"</td>\n",
       "      <td>185.42</td>\n",
       "      <td>185.0</td>\n",
       "      <td>L</td>\n",
       "      <td>Tyler Parsons</td>\n",
       "      <td>NaN</td>\n",
       "    </tr>\n",
       "    <tr>\n",
       "      <th>3922</th>\n",
       "      <td>8480970</td>\n",
       "      <td>Marcus</td>\n",
       "      <td>Hogstrom</td>\n",
       "      <td>SWE</td>\n",
       "      <td>Sveg</td>\n",
       "      <td>D</td>\n",
       "      <td>1989-03-20 00:00:00</td>\n",
       "      <td>NaN</td>\n",
       "      <td>6' 4\"</td>\n",
       "      <td>193.04</td>\n",
       "      <td>200.0</td>\n",
       "      <td>L</td>\n",
       "      <td>Marcus Hogstrom</td>\n",
       "      <td>NaN</td>\n",
       "    </tr>\n",
       "    <tr>\n",
       "      <th>3923</th>\n",
       "      <td>8477574</td>\n",
       "      <td>Parker</td>\n",
       "      <td>Milner</td>\n",
       "      <td>USA</td>\n",
       "      <td>Pittsburgh</td>\n",
       "      <td>G</td>\n",
       "      <td>1990-09-06 01:00:00</td>\n",
       "      <td>PA</td>\n",
       "      <td>6' 1\"</td>\n",
       "      <td>185.42</td>\n",
       "      <td>185.0</td>\n",
       "      <td>L</td>\n",
       "      <td>Parker Milner</td>\n",
       "      <td>NaN</td>\n",
       "    </tr>\n",
       "    <tr>\n",
       "      <th>3924</th>\n",
       "      <td>8477352</td>\n",
       "      <td>Ryan</td>\n",
       "      <td>Fitzgerald</td>\n",
       "      <td>USA</td>\n",
       "      <td>Boca Raton</td>\n",
       "      <td>C</td>\n",
       "      <td>1994-10-19 01:00:00</td>\n",
       "      <td>FL</td>\n",
       "      <td>5' 9\"</td>\n",
       "      <td>175.26</td>\n",
       "      <td>172.0</td>\n",
       "      <td>R</td>\n",
       "      <td>Ryan Fitzgerald</td>\n",
       "      <td>NaN</td>\n",
       "    </tr>\n",
       "  </tbody>\n",
       "</table>\n",
       "<p>3925 rows × 14 columns</p>\n",
       "</div>"
      ],
      "text/plain": [
       "      player_id firstName      lastName nationality       birthCity  \\\n",
       "0       8466148    Marian         Hossa         SVK   Stará Lubovna   \n",
       "1       8465058    Michal      Rozsival         CZE          Vlasim   \n",
       "2       8476906    Shayne  Gostisbehere         USA  Pembroke Pines   \n",
       "3       8466285     Brian      Campbell         CAN       Strathroy   \n",
       "4       8470607     Brent      Seabrook         CAN        Richmond   \n",
       "...         ...       ...           ...         ...             ...   \n",
       "3920    8479374      Adam     Mascherin         CAN           Maple   \n",
       "3921    8479403     Tyler       Parsons         USA      Mt. Clemas   \n",
       "3922    8480970    Marcus      Hogstrom         SWE            Sveg   \n",
       "3923    8477574    Parker        Milner         USA      Pittsburgh   \n",
       "3924    8477352      Ryan    Fitzgerald         USA      Boca Raton   \n",
       "\n",
       "     primaryPosition            birthDate birthStateProvince  height  \\\n",
       "0                 RW  1979-01-12 00:00:00                NaN   6' 1\"   \n",
       "1                  D  1978-09-03 01:00:00                NaN   6' 1\"   \n",
       "2                  D  1993-04-20 01:00:00                 FL  5' 11\"   \n",
       "3                  D  1979-05-23 01:00:00                 ON  5' 10\"   \n",
       "4                  D  1985-04-20 01:00:00                 BC   6' 3\"   \n",
       "...              ...                  ...                ...     ...   \n",
       "3920              LW  1998-06-06 01:00:00                 ON  5' 10\"   \n",
       "3921               G  1997-09-18 01:00:00                 MI   6' 1\"   \n",
       "3922               D  1989-03-20 00:00:00                NaN   6' 4\"   \n",
       "3923               G  1990-09-06 01:00:00                 PA   6' 1\"   \n",
       "3924               C  1994-10-19 01:00:00                 FL   5' 9\"   \n",
       "\n",
       "      height_cm  weight shootsCatches             fullName  \\\n",
       "0        185.42   207.0             L         Marian Hossa   \n",
       "1        185.42   210.0             R      Michal Rozsival   \n",
       "2        180.34   180.0             L  Shayne Gostisbehere   \n",
       "3        177.80   192.0             L       Brian Campbell   \n",
       "4        190.50   220.0             R       Brent Seabrook   \n",
       "...         ...     ...           ...                  ...   \n",
       "3920     177.80   205.0             L       Adam Mascherin   \n",
       "3921     185.42   185.0             L        Tyler Parsons   \n",
       "3922     193.04   200.0             L      Marcus Hogstrom   \n",
       "3923     185.42   185.0             L        Parker Milner   \n",
       "3924     175.26   172.0             R      Ryan Fitzgerald   \n",
       "\n",
       "                                         allStarSeasons  \n",
       "0     [20002001, 20022003, 20062007, 20072008, 20112...  \n",
       "1                                                   NaN  \n",
       "2                                                   NaN  \n",
       "3              [20062007, 20072008, 20082009, 20112012]  \n",
       "4                                            [20142015]  \n",
       "...                                                 ...  \n",
       "3920                                                NaN  \n",
       "3921                                                NaN  \n",
       "3922                                                NaN  \n",
       "3923                                                NaN  \n",
       "3924                                                NaN  \n",
       "\n",
       "[3925 rows x 14 columns]"
      ]
     },
     "execution_count": 65,
     "metadata": {},
     "output_type": "execute_result"
    }
   ],
   "source": [
    "player_seasons = merged.groupby('player_id')['Season'].apply(list).reset_index()\n",
    "player_info = pd.merge(player_info, player_seasons, on='player_id', how='left').rename(columns={'Season': 'allStarSeasons'})\n",
    "player_info"
   ]
  },
  {
   "cell_type": "code",
   "execution_count": 66,
   "metadata": {},
   "outputs": [],
   "source": [
    "player_info.to_pickle(PICKLE_PATH / \"player_info\")"
   ]
  },
  {
   "cell_type": "code",
   "execution_count": null,
   "metadata": {},
   "outputs": [],
   "source": []
  }
 ],
 "metadata": {
  "kernelspec": {
   "display_name": "Python 3",
   "language": "python",
   "name": "python3"
  },
  "language_info": {
   "codemirror_mode": {
    "name": "ipython",
    "version": 3
   },
   "file_extension": ".py",
   "mimetype": "text/x-python",
   "name": "python",
   "nbconvert_exporter": "python",
   "pygments_lexer": "ipython3",
   "version": "3.10.12"
  }
 },
 "nbformat": 4,
 "nbformat_minor": 2
}
