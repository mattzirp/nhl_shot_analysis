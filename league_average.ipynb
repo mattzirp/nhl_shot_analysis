{
 "cells": [
  {
   "cell_type": "code",
   "execution_count": null,
   "metadata": {},
   "outputs": [],
   "source": [
    "import pandas as pd\n",
    "import numpy as np\n",
    "import matplotlib.pyplot as plt\n",
    "import seaborn as sns\n",
    "import sportypy\n",
    "\n",
    "player_data = pd.read_pickle(\"pickled_data/player_info\")\n",
    "plays_data = pd.read_pickle(\"pickled_data/game_plays\")\n",
    "plays_players_data = pd.read_pickle(\"pickled_data/game_plays_players\")\n",
    "player_info = pd.read_pickle(\"pickled_data/player_info\")\n",
    "\n",
    "merged_df = plays_data.merge(plays_players_data, on='play_id', how='left')\n",
    "merged_df = merged_df.merge(player_info, left_on='player_id', right_on='player_id', how='left')\n",
    "\n",
    "\n",
    "scoring_plays = ['Goal', 'Assist']\n",
    "defensive_plays = ['Blocked Shot', 'Takeaway', 'Goal', 'Assist']\n",
    "\n",
    "offensive_df = merged_df[merged_df['event'].isin(scoring_plays)]\n",
    "defensive_df = merged_df[merged_df['event'].isin(defensive_plays)]\n",
    "\n",
    "offensive_stats = offensive_df.groupby('player_id').size().reset_index(name='offensive_events')\n",
    "defensive_stats = defensive_df.groupby('player_id').size().reset_index(name='defensive_events')\n",
    "\n",
    "offensive_stats = offensive_stats.merge(player_info, on='player_id', how='left')\n",
    "defensive_stats = defensive_stats.merge(player_info, on='player_id', how='left')\n",
    "\n",
    "plt.figure(figsize=(10,5))\n",
    "sns.histplot(offensive_stats['offensive_events'], bins = 30, kde = True)\n",
    "plt.title(\"Distribution of Offensive Events\")\n",
    "plt.xlabel(\"Number of Offensive Events\")\n",
    "plt.ylabel(\"Frequency\")\n",
    "plt.show()\n",
    "\n",
    "offensive_mean = offensive_stats['offensive_events'].mean()\n",
    "offensive_std = offensive_stats['offensive_events'].std()\n",
    "league_avg_offensive = offensive_stats[(offensive_stats['offensive_events'] >= offensive_mean - offensive_std) & (offensive_stats['offensive_events'] <= offensive_mean + offensive_std)]\n",
    "\n",
    "defensive_mean = defensive_stats['defensive_events'].mean()\n",
    "defensive_std = defensive_stats['defensive_events'].std()\n",
    "league_avg_defensive = offensive_stats[(offensive_stats['offensive_events'] >= offensive_mean - offensive_std) & (offensive_stats['offensive_events'] <= offensive_mean + offensive_std)]\n",
    "\n",
    "\n",
    "print(league_avg_offensive)\n"
   ]
  }
 ],
 "metadata": {
  "kernelspec": {
   "display_name": "Python 3",
   "language": "python",
   "name": "python3"
  },
  "language_info": {
   "codemirror_mode": {
    "name": "ipython",
    "version": 3
   },
   "file_extension": ".py",
   "mimetype": "text/x-python",
   "name": "python",
   "nbconvert_exporter": "python",
   "pygments_lexer": "ipython3",
   "version": "3.9.6"
  }
 },
 "nbformat": 4,
 "nbformat_minor": 2
}
