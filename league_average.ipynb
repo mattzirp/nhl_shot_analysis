{
 "cells": [
  {
   "cell_type": "code",
   "execution_count": 1,
   "metadata": {},
   "outputs": [
    {
     "ename": "",
     "evalue": "",
     "output_type": "error",
     "traceback": [
      "\u001b[1;31mThe Kernel crashed while executing code in the current cell or a previous cell. \n",
      "\u001b[1;31mPlease review the code in the cell(s) to identify a possible cause of the failure. \n",
      "\u001b[1;31mClick <a href='https://aka.ms/vscodeJupyterKernelCrash'>here</a> for more info. \n",
      "\u001b[1;31mView Jupyter <a href='command:jupyter.viewOutput'>log</a> for further details."
     ]
    }
   ],
   "source": [
    "import pandas as pd\n",
    "import numpy as np\n",
    "import matplotlib.pyplot as plt\n",
    "import seaborn as sns\n",
    "import sportypy\n",
    "\n",
    "player_data = pd.read_pickle(\"pickled_data/player_info\")\n",
    "plays_data = pd.read_pickle(\"pickled_data/game_plays\")\n",
    "plays_players_data = pd.read_pickle(\"pickled_data/game_plays_players\")\n",
    "player_info = pd.read_pickle(\"pickled_data/player_info\")\n",
    "\n",
    "player_info['birthDate'] = pd.to_datetime(player_info['birthDate'], errors='coerce')\n",
    "\n",
    "merged_df = plays_data.merge(plays_players_data, on='play_id', how='left')\n",
    "merged_df = merged_df.merge(player_info, left_on='player_id', right_on='player_id', how='left')\n",
    "current_year = 2020\n",
    "merged_df = merged_df[(current_year - merged_df['birthDate'].dt.year >= 20) & (current_year - merged_df['birthDate'].dt.year <= 30)]\n",
    "\n",
    "scoring_plays = ['Goal', 'Assist']\n",
    "defensive_plays = ['Blocked Shot', 'Takeaway', 'Goal', 'Assist']\n",
    "\n",
    "offensive_positions = ['C', 'LW', 'RW']\n",
    "defensive_positions = ['D']\n",
    "\n",
    "offensive_df = merged_df[(merged_df['event'].isin(scoring_plays)) & (merged_df['primaryPosition'].isin(offensive_positions))]\n",
    "defensive_df = merged_df[merged_df['event'].isin(defensive_plays)] & (merged_df['primaryPosition'].isin(defensive_positions))\n",
    "\n",
    "offensive_stats = offensive_df.groupby('player_id').size().reset_index(name='offensive_events')\n",
    "defensive_stats = defensive_df.groupby('player_id').size().reset_index(name='defensive_events')\n",
    "\n",
    "offensive_stats = offensive_stats.merge(player_info, on='player_id', how='left')\n",
    "defensive_stats = defensive_stats.merge(player_info, on='player_id', how='left')\n",
    "\n",
    "low_offensive, high_offensive = offensive_stats['offensive_events'].quantile([0.05, 0.95])\n",
    "low_defensive, high_defensive = defensive_stats['defensive_events'].quantile([0.05, 0.95])\n",
    "\n",
    "offensive_stats = offensive_stats[(offensive_stats['offensive_events'] >= low_offensive) & (offensive_stats['offensive_events'] <= high_offensive)]\n",
    "defensive_stats = defensive_stats[(defensive_stats['defensive_events'] >= low_defensive) & (defensive_stats['defensive_events'] <= high_defensive)]\n",
    "\n",
    "plt.figure(figsize=(10,5))\n",
    "sns.histplot(offensive_stats['offensive_events'], bins = 30, kde = True)\n",
    "plt.title(\"Distribution of Offensive Production\")\n",
    "plt.xlabel(\"Number of Offensive Events\")\n",
    "plt.ylabel(\"Frequency\")\n",
    "plt.show()\n",
    "\n",
    "offensive_mean = offensive_stats['offensive_events'].mean()\n",
    "offensive_std = offensive_stats['offensive_events'].std()\n",
    "league_avg_offensive = offensive_stats[(offensive_stats['offensive_events'] <= offensive_mean + offensive_std) & (offensive_stats['offensive_events'] >= offensive_mean)]\n",
    "\n",
    "defensive_mean = defensive_stats['defensive_events'].mean()\n",
    "defensive_std = defensive_stats['defensive_events'].std()\n",
    "league_avg_defensive = defensive_stats[(defensive_stats['defensive_events'] <= defensive_mean + defensive_std) & (defensive_stats['defensive_events'] >= defensive_mean + defensive_std)]\n",
    "\n",
    "display(league_avg_offensive)\n",
    "display(league_avg_defensive)\n",
    "\n"
   ]
  }
 ],
 "metadata": {
  "kernelspec": {
   "display_name": "Python 3",
   "language": "python",
   "name": "python3"
  },
  "language_info": {
   "codemirror_mode": {
    "name": "ipython",
    "version": 3
   },
   "file_extension": ".py",
   "mimetype": "text/x-python",
   "name": "python",
   "nbconvert_exporter": "python",
   "pygments_lexer": "ipython3",
   "version": "3.9.6"
  }
 },
 "nbformat": 4,
 "nbformat_minor": 2
}
