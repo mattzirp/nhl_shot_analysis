{
 "cells": [
  {
   "cell_type": "markdown",
   "metadata": {},
   "source": [
    "This notebook will focus on the shot/play comparison of All-Star calibre players to league-average players.\n"
   ]
  },
  {
   "cell_type": "code",
   "execution_count": null,
   "metadata": {},
   "outputs": [],
   "source": [
    "import pandas as pd\n",
    "import numpy as np\n",
    "import matplotlib.pyplot as plt\n",
    "import seaborn as sns\n",
    "\n",
    "player_data = pd.read_pickle(\"pickled_data/player_info\")\n",
    "plays_data = pd.read_pickle(\"pickled_data/game_plays\")\n",
    "plays_players_data = pd.read_pickle(\"pickled_data/game_plays_players\")\n",
    "player_info = pd.read_pickle(\"pickled_data/player_info\")\n",
    "\n",
    "allstar_data = pd.read_csv(\"data/allstars.csv\")\n",
    "\n",
    "allstar_data.rename(columns={'Mathew Barzal': 'Name'}, inplace=True)\n",
    "allstar_data.rename(columns={'F': 'Position'}, inplace=True)\n",
    "allstar_data.rename(columns={'New York Islanders': 'Team'}, inplace=True)\n",
    "allstar_data.drop(columns=['Unnamed: 3'])\n",
    "allstar_data.drop(columns=['Unnamed: 4'])\n",
    "\n",
    "display(allstar_data)\n"
   ]
  },
  {
   "cell_type": "markdown",
   "metadata": {},
   "source": [
    "From the above table ran by the code, we can see that the first column provides all of the all-star names, but the names are together in the same value, we need to separate the first and last name to search in our NHl data. "
   ]
  },
  {
   "cell_type": "code",
   "execution_count": null,
   "metadata": {},
   "outputs": [],
   "source": [
    "allstar_clean1 = allstar_data['Name'].str.split(\" \", n=1, expand=True)\n",
    "display(allstar_clean1)"
   ]
  },
  {
   "cell_type": "markdown",
   "metadata": {},
   "source": [
    "Now, we can search based on the player last name, as how it is stored in the player_info pickle."
   ]
  },
  {
   "cell_type": "code",
   "execution_count": null,
   "metadata": {},
   "outputs": [],
   "source": [
    "player_info[player_info['lastName'] == 'Ovechkin']"
   ]
  },
  {
   "cell_type": "markdown",
   "metadata": {},
   "source": [
    "Now we will have to drop all duplicates in the All star dataframe to properly merge and match with the player_info dataframe to get the neccessary player_id for the game plays."
   ]
  },
  {
   "cell_type": "code",
   "execution_count": null,
   "metadata": {},
   "outputs": [],
   "source": [
    "allstar_clean1 = allstar_clean1.drop_duplicates()\n",
    "allstar_clean1.columns = ['firstName', 'lastName']\n",
    "\n",
    "merged_allstar = allstar_clean1.merge(player_info, on='lastName', how='left')\n",
    "\n",
    "\n",
    "merged_allstar.drop_duplicates(subset=['firstName_x', 'lastName', 'player_id'])\n",
    "\n",
    "all_star_player_id = merged_allstar['player_id'].unique()\n",
    "\n",
    "all_star_plays = plays_players_data[plays_players_data['player_id'].isin(all_star_player_id)]\n",
    "\n",
    "all_star_plays2 = pd.merge(all_star_plays, plays_data, on = 'play_id')\n",
    "\n",
    "all_star_plays2.info()\n",
    "\n",
    "all_star_plays2['playerType'].value_counts()"
   ]
  },
  {
   "cell_type": "markdown",
   "metadata": {},
   "source": [
    "Now that we have the data merged and cleaned with the game plays data, we can look into some key statistics for All-star players, we need to specifically look at the shooter and scorer values, as these indicate shots and goals by the players. "
   ]
  },
  {
   "cell_type": "code",
   "execution_count": null,
   "metadata": {},
   "outputs": [],
   "source": []
  }
 ],
 "metadata": {
  "kernelspec": {
   "display_name": "Python 3",
   "language": "python",
   "name": "python3"
  },
  "language_info": {
   "codemirror_mode": {
    "name": "ipython",
    "version": 3
   },
   "file_extension": ".py",
   "mimetype": "text/x-python",
   "name": "python",
   "nbconvert_exporter": "python",
   "pygments_lexer": "ipython3",
   "version": "3.9.6"
  }
 },
 "nbformat": 4,
 "nbformat_minor": 2
}
